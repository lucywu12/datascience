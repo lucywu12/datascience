{
 "cells": [
  {
   "cell_type": "markdown",
   "id": "62b755a9",
   "metadata": {
    "papermill": {
     "duration": 0.005185,
     "end_time": "2023-12-28T05:36:41.991632",
     "exception": false,
     "start_time": "2023-12-28T05:36:41.986447",
     "status": "completed"
    },
    "tags": []
   },
   "source": [
    "**This notebook is an exercise in the [Pandas](https://www.kaggle.com/learn/pandas) course.  You can reference the tutorial at [this link](https://www.kaggle.com/residentmario/data-types-and-missing-values).**\n",
    "\n",
    "---\n"
   ]
  },
  {
   "cell_type": "markdown",
   "id": "aee4ef5f",
   "metadata": {
    "papermill": {
     "duration": 0.004763,
     "end_time": "2023-12-28T05:36:42.001844",
     "exception": false,
     "start_time": "2023-12-28T05:36:41.997081",
     "status": "completed"
    },
    "tags": []
   },
   "source": [
    "# Introduction\n",
    "\n",
    "Run the following cell to load your data and some utility functions."
   ]
  },
  {
   "cell_type": "code",
   "execution_count": 1,
   "id": "529c2a61",
   "metadata": {
    "execution": {
     "iopub.execute_input": "2023-12-28T05:36:42.013526Z",
     "iopub.status.busy": "2023-12-28T05:36:42.013050Z",
     "iopub.status.idle": "2023-12-28T05:36:45.764326Z",
     "shell.execute_reply": "2023-12-28T05:36:45.763205Z"
    },
    "papermill": {
     "duration": 3.760122,
     "end_time": "2023-12-28T05:36:45.766784",
     "exception": false,
     "start_time": "2023-12-28T05:36:42.006662",
     "status": "completed"
    },
    "tags": []
   },
   "outputs": [
    {
     "name": "stdout",
     "output_type": "stream",
     "text": [
      "Setup complete.\n"
     ]
    }
   ],
   "source": [
    "import pandas as pd\n",
    "\n",
    "reviews = pd.read_csv(\"../input/wine-reviews/winemag-data-130k-v2.csv\", index_col=0)\n",
    "\n",
    "from learntools.core import binder; binder.bind(globals())\n",
    "from learntools.pandas.data_types_and_missing_data import *\n",
    "print(\"Setup complete.\")"
   ]
  },
  {
   "cell_type": "markdown",
   "id": "0f25a724",
   "metadata": {
    "papermill": {
     "duration": 0.004568,
     "end_time": "2023-12-28T05:36:45.777058",
     "exception": false,
     "start_time": "2023-12-28T05:36:45.772490",
     "status": "completed"
    },
    "tags": []
   },
   "source": [
    "# Exercises"
   ]
  },
  {
   "cell_type": "markdown",
   "id": "e175a8b7",
   "metadata": {
    "papermill": {
     "duration": 0.004537,
     "end_time": "2023-12-28T05:36:45.786440",
     "exception": false,
     "start_time": "2023-12-28T05:36:45.781903",
     "status": "completed"
    },
    "tags": []
   },
   "source": [
    "## 1. \n",
    "What is the data type of the `points` column in the dataset?"
   ]
  },
  {
   "cell_type": "code",
   "execution_count": 2,
   "id": "d5102889",
   "metadata": {
    "execution": {
     "iopub.execute_input": "2023-12-28T05:36:45.798126Z",
     "iopub.status.busy": "2023-12-28T05:36:45.797616Z",
     "iopub.status.idle": "2023-12-28T05:36:45.810194Z",
     "shell.execute_reply": "2023-12-28T05:36:45.809033Z"
    },
    "papermill": {
     "duration": 0.021658,
     "end_time": "2023-12-28T05:36:45.812918",
     "exception": false,
     "start_time": "2023-12-28T05:36:45.791260",
     "status": "completed"
    },
    "tags": []
   },
   "outputs": [
    {
     "name": "stdout",
     "output_type": "stream",
     "text": [
      "int64\n"
     ]
    },
    {
     "data": {
      "application/javascript": [
       "parent.postMessage({\"jupyterEvent\": \"custom.exercise_interaction\", \"data\": {\"outcomeType\": 1, \"valueTowardsCompletion\": 0.25, \"interactionType\": 1, \"questionType\": 1, \"questionId\": \"1_PointsDtype\", \"learnToolsVersion\": \"0.3.4\", \"failureMessage\": \"\", \"exceptionClass\": \"\", \"trace\": \"\"}}, \"*\")"
      ],
      "text/plain": [
       "<IPython.core.display.Javascript object>"
      ]
     },
     "metadata": {},
     "output_type": "display_data"
    },
    {
     "data": {
      "text/markdown": [
       "<span style=\"color:#33cc33\">Correct</span>"
      ],
      "text/plain": [
       "Correct"
      ]
     },
     "metadata": {},
     "output_type": "display_data"
    }
   ],
   "source": [
    "# Your code here\n",
    "dtype = reviews.points.dtype\n",
    "print(dtype)\n",
    "\n",
    "# Check your answer\n",
    "q1.check()"
   ]
  },
  {
   "cell_type": "code",
   "execution_count": 3,
   "id": "dbfde624",
   "metadata": {
    "execution": {
     "iopub.execute_input": "2023-12-28T05:36:45.825931Z",
     "iopub.status.busy": "2023-12-28T05:36:45.825458Z",
     "iopub.status.idle": "2023-12-28T05:36:45.832038Z",
     "shell.execute_reply": "2023-12-28T05:36:45.831057Z"
    },
    "papermill": {
     "duration": 0.016152,
     "end_time": "2023-12-28T05:36:45.834378",
     "exception": false,
     "start_time": "2023-12-28T05:36:45.818226",
     "status": "completed"
    },
    "tags": []
   },
   "outputs": [],
   "source": [
    "#q1.hint()\n",
    "#q1.solution()"
   ]
  },
  {
   "cell_type": "markdown",
   "id": "a3798c4f",
   "metadata": {
    "papermill": {
     "duration": 0.005526,
     "end_time": "2023-12-28T05:36:45.845329",
     "exception": false,
     "start_time": "2023-12-28T05:36:45.839803",
     "status": "completed"
    },
    "tags": []
   },
   "source": [
    "## 2. \n",
    "Create a Series from entries in the `points` column, but convert the entries to strings. Hint: strings are `str` in native Python."
   ]
  },
  {
   "cell_type": "code",
   "execution_count": 4,
   "id": "d2e44ad4",
   "metadata": {
    "execution": {
     "iopub.execute_input": "2023-12-28T05:36:45.859126Z",
     "iopub.status.busy": "2023-12-28T05:36:45.858553Z",
     "iopub.status.idle": "2023-12-28T05:36:45.926985Z",
     "shell.execute_reply": "2023-12-28T05:36:45.926213Z"
    },
    "papermill": {
     "duration": 0.078516,
     "end_time": "2023-12-28T05:36:45.929517",
     "exception": false,
     "start_time": "2023-12-28T05:36:45.851001",
     "status": "completed"
    },
    "tags": []
   },
   "outputs": [
    {
     "name": "stdout",
     "output_type": "stream",
     "text": [
      "0         87\n",
      "1         87\n",
      "2         87\n",
      "3         87\n",
      "4         87\n",
      "          ..\n",
      "129966    90\n",
      "129967    90\n",
      "129968    90\n",
      "129969    90\n",
      "129970    90\n",
      "Name: points, Length: 129971, dtype: object\n"
     ]
    },
    {
     "data": {
      "application/javascript": [
       "parent.postMessage({\"jupyterEvent\": \"custom.exercise_interaction\", \"data\": {\"outcomeType\": 1, \"valueTowardsCompletion\": 0.25, \"interactionType\": 1, \"questionType\": 1, \"questionId\": \"2_StrPoints\", \"learnToolsVersion\": \"0.3.4\", \"failureMessage\": \"\", \"exceptionClass\": \"\", \"trace\": \"\"}}, \"*\")"
      ],
      "text/plain": [
       "<IPython.core.display.Javascript object>"
      ]
     },
     "metadata": {},
     "output_type": "display_data"
    },
    {
     "data": {
      "text/markdown": [
       "<span style=\"color:#33cc33\">Correct</span>"
      ],
      "text/plain": [
       "Correct"
      ]
     },
     "metadata": {},
     "output_type": "display_data"
    }
   ],
   "source": [
    "point_strings = reviews.points.astype('str')\n",
    "print(point_strings)\n",
    "# Check your answer\n",
    "q2.check()"
   ]
  },
  {
   "cell_type": "code",
   "execution_count": 5,
   "id": "2179d3c0",
   "metadata": {
    "execution": {
     "iopub.execute_input": "2023-12-28T05:36:45.943207Z",
     "iopub.status.busy": "2023-12-28T05:36:45.942690Z",
     "iopub.status.idle": "2023-12-28T05:36:45.948034Z",
     "shell.execute_reply": "2023-12-28T05:36:45.946864Z"
    },
    "papermill": {
     "duration": 0.015614,
     "end_time": "2023-12-28T05:36:45.950679",
     "exception": false,
     "start_time": "2023-12-28T05:36:45.935065",
     "status": "completed"
    },
    "tags": []
   },
   "outputs": [],
   "source": [
    "#q2.hint()\n",
    "#q2.solution()"
   ]
  },
  {
   "cell_type": "markdown",
   "id": "c9313db2",
   "metadata": {
    "papermill": {
     "duration": 0.005414,
     "end_time": "2023-12-28T05:36:45.962049",
     "exception": false,
     "start_time": "2023-12-28T05:36:45.956635",
     "status": "completed"
    },
    "tags": []
   },
   "source": [
    "## 3.\n",
    "Sometimes the price column is null. How many reviews in the dataset are missing a price?"
   ]
  },
  {
   "cell_type": "code",
   "execution_count": 6,
   "id": "023cf31e",
   "metadata": {
    "execution": {
     "iopub.execute_input": "2023-12-28T05:36:45.975916Z",
     "iopub.status.busy": "2023-12-28T05:36:45.975012Z",
     "iopub.status.idle": "2023-12-28T05:36:45.994833Z",
     "shell.execute_reply": "2023-12-28T05:36:45.993689Z"
    },
    "papermill": {
     "duration": 0.030207,
     "end_time": "2023-12-28T05:36:45.997785",
     "exception": false,
     "start_time": "2023-12-28T05:36:45.967578",
     "status": "completed"
    },
    "tags": []
   },
   "outputs": [
    {
     "name": "stdout",
     "output_type": "stream",
     "text": [
      "8996\n"
     ]
    },
    {
     "data": {
      "application/javascript": [
       "parent.postMessage({\"jupyterEvent\": \"custom.exercise_interaction\", \"data\": {\"outcomeType\": 1, \"valueTowardsCompletion\": 0.25, \"interactionType\": 1, \"questionType\": 1, \"questionId\": \"3_CountMissingPrices\", \"learnToolsVersion\": \"0.3.4\", \"failureMessage\": \"\", \"exceptionClass\": \"\", \"trace\": \"\"}}, \"*\")"
      ],
      "text/plain": [
       "<IPython.core.display.Javascript object>"
      ]
     },
     "metadata": {},
     "output_type": "display_data"
    },
    {
     "data": {
      "text/markdown": [
       "<span style=\"color:#33cc33\">Correct</span>"
      ],
      "text/plain": [
       "Correct"
      ]
     },
     "metadata": {},
     "output_type": "display_data"
    }
   ],
   "source": [
    "n = reviews[pd.isnull(reviews.price)]\n",
    "n_missing_prices = len(n)\n",
    "print(n_missing_prices)\n",
    "\n",
    "# Check your answer\n",
    "q3.check()"
   ]
  },
  {
   "cell_type": "code",
   "execution_count": 7,
   "id": "843d6d88",
   "metadata": {
    "execution": {
     "iopub.execute_input": "2023-12-28T05:36:46.012408Z",
     "iopub.status.busy": "2023-12-28T05:36:46.011919Z",
     "iopub.status.idle": "2023-12-28T05:36:46.016350Z",
     "shell.execute_reply": "2023-12-28T05:36:46.015325Z"
    },
    "papermill": {
     "duration": 0.014787,
     "end_time": "2023-12-28T05:36:46.018524",
     "exception": false,
     "start_time": "2023-12-28T05:36:46.003737",
     "status": "completed"
    },
    "tags": []
   },
   "outputs": [],
   "source": [
    "#q3.hint()\n",
    "#q3.solution()"
   ]
  },
  {
   "cell_type": "markdown",
   "id": "b164dda0",
   "metadata": {
    "papermill": {
     "duration": 0.006085,
     "end_time": "2023-12-28T05:36:46.030708",
     "exception": false,
     "start_time": "2023-12-28T05:36:46.024623",
     "status": "completed"
    },
    "tags": []
   },
   "source": [
    "## 4.\n",
    "What are the most common wine-producing regions? Create a Series counting the number of times each value occurs in the `region_1` field. This field is often missing data, so replace missing values with `Unknown`. Sort in descending order.  Your output should look something like this:\n",
    "\n",
    "```\n",
    "Unknown                    21247\n",
    "Napa Valley                 4480\n",
    "                           ...  \n",
    "Bardolino Superiore            1\n",
    "Primitivo del Tarantino        1\n",
    "Name: region_1, Length: 1230, dtype: int64\n",
    "```"
   ]
  },
  {
   "cell_type": "code",
   "execution_count": 8,
   "id": "90e8c771",
   "metadata": {
    "execution": {
     "iopub.execute_input": "2023-12-28T05:36:46.046718Z",
     "iopub.status.busy": "2023-12-28T05:36:46.045335Z",
     "iopub.status.idle": "2023-12-28T05:36:46.103705Z",
     "shell.execute_reply": "2023-12-28T05:36:46.100995Z"
    },
    "papermill": {
     "duration": 0.069593,
     "end_time": "2023-12-28T05:36:46.106405",
     "exception": false,
     "start_time": "2023-12-28T05:36:46.036812",
     "status": "completed"
    },
    "tags": []
   },
   "outputs": [
    {
     "name": "stdout",
     "output_type": "stream",
     "text": [
      "region_1\n",
      "Unknown                 21247\n",
      "Napa Valley              4480\n",
      "Columbia Valley (WA)     4124\n",
      "Russian River Valley     3091\n",
      "California               2629\n",
      "                        ...  \n",
      "Offida Rosso                1\n",
      "Corton Perrières            1\n",
      "Isle St. George             1\n",
      "Geelong                     1\n",
      "Paestum                     1\n",
      "Name: count, Length: 1230, dtype: int64\n"
     ]
    },
    {
     "data": {
      "application/javascript": [
       "parent.postMessage({\"jupyterEvent\": \"custom.exercise_interaction\", \"data\": {\"outcomeType\": 1, \"valueTowardsCompletion\": 0.25, \"interactionType\": 1, \"questionType\": 2, \"questionId\": \"4_ReviewsPerRegion\", \"learnToolsVersion\": \"0.3.4\", \"failureMessage\": \"\", \"exceptionClass\": \"\", \"trace\": \"\"}}, \"*\")"
      ],
      "text/plain": [
       "<IPython.core.display.Javascript object>"
      ]
     },
     "metadata": {},
     "output_type": "display_data"
    },
    {
     "data": {
      "text/markdown": [
       "<span style=\"color:#33cc33\">Correct</span>"
      ],
      "text/plain": [
       "Correct"
      ]
     },
     "metadata": {},
     "output_type": "display_data"
    }
   ],
   "source": [
    "reviews_per_region = reviews.region_1.fillna(\"Unknown\").value_counts().sort_values(ascending=False)\n",
    "print(reviews_per_region)\n",
    "\n",
    "# Check your answer\n",
    "q4.check()"
   ]
  },
  {
   "cell_type": "code",
   "execution_count": 9,
   "id": "cf215376",
   "metadata": {
    "execution": {
     "iopub.execute_input": "2023-12-28T05:36:46.122374Z",
     "iopub.status.busy": "2023-12-28T05:36:46.120822Z",
     "iopub.status.idle": "2023-12-28T05:36:46.133057Z",
     "shell.execute_reply": "2023-12-28T05:36:46.131983Z"
    },
    "papermill": {
     "duration": 0.022255,
     "end_time": "2023-12-28T05:36:46.135173",
     "exception": false,
     "start_time": "2023-12-28T05:36:46.112918",
     "status": "completed"
    },
    "tags": []
   },
   "outputs": [
    {
     "data": {
      "application/javascript": [
       "parent.postMessage({\"jupyterEvent\": \"custom.exercise_interaction\", \"data\": {\"interactionType\": 2, \"questionType\": 2, \"questionId\": \"4_ReviewsPerRegion\", \"learnToolsVersion\": \"0.3.4\", \"valueTowardsCompletion\": 0.0, \"failureMessage\": \"\", \"exceptionClass\": \"\", \"trace\": \"\", \"outcomeType\": 4}}, \"*\")"
      ],
      "text/plain": [
       "<IPython.core.display.Javascript object>"
      ]
     },
     "metadata": {},
     "output_type": "display_data"
    },
    {
     "data": {
      "text/markdown": [
       "<span style=\"color:#3366cc\">Hint:</span> Use `fillna()`, `value_counts()`, and `sort_values()`."
      ],
      "text/plain": [
       "Hint: Use `fillna()`, `value_counts()`, and `sort_values()`."
      ]
     },
     "metadata": {},
     "output_type": "display_data"
    },
    {
     "data": {
      "application/javascript": [
       "parent.postMessage({\"jupyterEvent\": \"custom.exercise_interaction\", \"data\": {\"interactionType\": 3, \"questionType\": 2, \"questionId\": \"4_ReviewsPerRegion\", \"learnToolsVersion\": \"0.3.4\", \"valueTowardsCompletion\": 0.0, \"failureMessage\": \"\", \"exceptionClass\": \"\", \"trace\": \"\", \"outcomeType\": 4}}, \"*\")"
      ],
      "text/plain": [
       "<IPython.core.display.Javascript object>"
      ]
     },
     "metadata": {},
     "output_type": "display_data"
    },
    {
     "data": {
      "text/markdown": [
       "<span style=\"color:#33cc99\">Solution:</span> \n",
       "```python\n",
       "reviews_per_region = reviews.region_1.fillna('Unknown').value_counts().sort_values(ascending=False)\n",
       "```"
      ],
      "text/plain": [
       "Solution: \n",
       "```python\n",
       "reviews_per_region = reviews.region_1.fillna('Unknown').value_counts().sort_values(ascending=False)\n",
       "```"
      ]
     },
     "metadata": {},
     "output_type": "display_data"
    }
   ],
   "source": [
    "q4.hint()\n",
    "q4.solution()"
   ]
  },
  {
   "cell_type": "markdown",
   "id": "b875e0a1",
   "metadata": {
    "papermill": {
     "duration": 0.006989,
     "end_time": "2023-12-28T05:36:46.148942",
     "exception": false,
     "start_time": "2023-12-28T05:36:46.141953",
     "status": "completed"
    },
    "tags": []
   },
   "source": [
    "# Keep going\n",
    "\n",
    "Move on to **[renaming and combining](https://www.kaggle.com/residentmario/renaming-and-combining)**."
   ]
  },
  {
   "cell_type": "markdown",
   "id": "013bce55",
   "metadata": {
    "papermill": {
     "duration": 0.007026,
     "end_time": "2023-12-28T05:36:46.163071",
     "exception": false,
     "start_time": "2023-12-28T05:36:46.156045",
     "status": "completed"
    },
    "tags": []
   },
   "source": [
    "---\n",
    "\n",
    "\n",
    "\n",
    "\n",
    "*Have questions or comments? Visit the [course discussion forum](https://www.kaggle.com/learn/pandas/discussion) to chat with other learners.*"
   ]
  }
 ],
 "metadata": {
  "kaggle": {
   "accelerator": "none",
   "dataSources": [
    {
     "datasetId": 655,
     "sourceId": 1252,
     "sourceType": "datasetVersion"
    },
    {
     "datasetId": 2321,
     "sourceId": 3919,
     "sourceType": "datasetVersion"
    },
    {
     "datasetId": 2894,
     "sourceId": 4877,
     "sourceType": "datasetVersion"
    },
    {
     "datasetId": 3491,
     "sourceId": 5624,
     "sourceType": "datasetVersion"
    },
    {
     "datasetId": 1442,
     "sourceId": 8172,
     "sourceType": "datasetVersion"
    },
    {
     "datasetId": 9366,
     "sourceId": 13206,
     "sourceType": "datasetVersion"
    },
    {
     "datasetId": 179555,
     "sourceId": 403916,
     "sourceType": "datasetVersion"
    },
    {
     "datasetId": 4549,
     "sourceId": 466349,
     "sourceType": "datasetVersion"
    },
    {
     "datasetId": 2478,
     "sourceId": 1151655,
     "sourceType": "datasetVersion"
    },
    {
     "datasetId": 10128,
     "sourceId": 5438389,
     "sourceType": "datasetVersion"
    }
   ],
   "isGpuEnabled": false,
   "isInternetEnabled": false,
   "language": "python",
   "sourceType": "notebook"
  },
  "kernelspec": {
   "display_name": "Python 3",
   "language": "python",
   "name": "python3"
  },
  "language_info": {
   "codemirror_mode": {
    "name": "ipython",
    "version": 3
   },
   "file_extension": ".py",
   "mimetype": "text/x-python",
   "name": "python",
   "nbconvert_exporter": "python",
   "pygments_lexer": "ipython3",
   "version": "3.10.12"
  },
  "papermill": {
   "default_parameters": {},
   "duration": 8.306153,
   "end_time": "2023-12-28T05:36:46.894689",
   "environment_variables": {},
   "exception": null,
   "input_path": "__notebook__.ipynb",
   "output_path": "__notebook__.ipynb",
   "parameters": {},
   "start_time": "2023-12-28T05:36:38.588536",
   "version": "2.4.0"
  }
 },
 "nbformat": 4,
 "nbformat_minor": 5
}
