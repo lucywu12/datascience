{
 "cells": [
  {
   "cell_type": "markdown",
   "id": "e84fa9a2",
   "metadata": {
    "papermill": {
     "duration": 0.006092,
     "end_time": "2023-12-28T04:33:46.958791",
     "exception": false,
     "start_time": "2023-12-28T04:33:46.952699",
     "status": "completed"
    },
    "tags": []
   },
   "source": [
    "**This notebook is an exercise in the [Pandas](https://www.kaggle.com/learn/pandas) course.  You can reference the tutorial at [this link](https://www.kaggle.com/residentmario/grouping-and-sorting).**\n",
    "\n",
    "---\n"
   ]
  },
  {
   "cell_type": "markdown",
   "id": "d2d9dbfe",
   "metadata": {
    "papermill": {
     "duration": 0.005401,
     "end_time": "2023-12-28T04:33:46.970046",
     "exception": false,
     "start_time": "2023-12-28T04:33:46.964645",
     "status": "completed"
    },
    "tags": []
   },
   "source": [
    "# Introduction\n",
    "\n",
    "In these exercises we'll apply groupwise analysis to our dataset.\n",
    "\n",
    "Run the code cell below to load the data before running the exercises."
   ]
  },
  {
   "cell_type": "code",
   "execution_count": 1,
   "id": "662f4564",
   "metadata": {
    "execution": {
     "iopub.execute_input": "2023-12-28T04:33:46.983535Z",
     "iopub.status.busy": "2023-12-28T04:33:46.982939Z",
     "iopub.status.idle": "2023-12-28T04:33:50.399475Z",
     "shell.execute_reply": "2023-12-28T04:33:50.398393Z"
    },
    "papermill": {
     "duration": 3.425895,
     "end_time": "2023-12-28T04:33:50.401936",
     "exception": false,
     "start_time": "2023-12-28T04:33:46.976041",
     "status": "completed"
    },
    "tags": []
   },
   "outputs": [
    {
     "name": "stdout",
     "output_type": "stream",
     "text": [
      "Setup complete.\n"
     ]
    }
   ],
   "source": [
    "import pandas as pd\n",
    "\n",
    "reviews = pd.read_csv(\"../input/wine-reviews/winemag-data-130k-v2.csv\", index_col=0)\n",
    "#pd.set_option(\"display.max_rows\", 5)\n",
    "\n",
    "from learntools.core import binder; binder.bind(globals())\n",
    "from learntools.pandas.grouping_and_sorting import *\n",
    "print(\"Setup complete.\")"
   ]
  },
  {
   "cell_type": "markdown",
   "id": "37fb12f5",
   "metadata": {
    "papermill": {
     "duration": 0.005549,
     "end_time": "2023-12-28T04:33:50.413573",
     "exception": false,
     "start_time": "2023-12-28T04:33:50.408024",
     "status": "completed"
    },
    "tags": []
   },
   "source": [
    "# Exercises"
   ]
  },
  {
   "cell_type": "markdown",
   "id": "698fb816",
   "metadata": {
    "papermill": {
     "duration": 0.005512,
     "end_time": "2023-12-28T04:33:50.424806",
     "exception": false,
     "start_time": "2023-12-28T04:33:50.419294",
     "status": "completed"
    },
    "tags": []
   },
   "source": [
    "## 1.\n",
    "Who are the most common wine reviewers in the dataset? Create a `Series` whose index is the `taster_twitter_handle` category from the dataset, and whose values count how many reviews each person wrote."
   ]
  },
  {
   "cell_type": "code",
   "execution_count": 2,
   "id": "4cb0ffad",
   "metadata": {
    "execution": {
     "iopub.execute_input": "2023-12-28T04:33:50.438112Z",
     "iopub.status.busy": "2023-12-28T04:33:50.437430Z",
     "iopub.status.idle": "2023-12-28T04:33:50.467121Z",
     "shell.execute_reply": "2023-12-28T04:33:50.466306Z"
    },
    "papermill": {
     "duration": 0.038887,
     "end_time": "2023-12-28T04:33:50.469390",
     "exception": false,
     "start_time": "2023-12-28T04:33:50.430503",
     "status": "completed"
    },
    "tags": []
   },
   "outputs": [
    {
     "name": "stdout",
     "output_type": "stream",
     "text": [
      "taster_twitter_handle\n",
      "@AnneInVino          3685\n",
      "@JoeCz               5147\n",
      "@bkfiona               27\n",
      "@gordone_cellars     4177\n",
      "@kerinokeefe        10776\n",
      "@laurbuzz            1835\n",
      "@mattkettmann        6332\n",
      "@paulgwine           9532\n",
      "@suskostrzewa        1085\n",
      "@vboone              9537\n",
      "@vossroger          25514\n",
      "@wawinereport        4966\n",
      "@wineschach         15134\n",
      "@winewchristina         6\n",
      "@worldwineguys       1005\n",
      "Name: taster_twitter_handle, dtype: int64\n"
     ]
    },
    {
     "data": {
      "application/javascript": [
       "parent.postMessage({\"jupyterEvent\": \"custom.exercise_interaction\", \"data\": {\"outcomeType\": 1, \"valueTowardsCompletion\": 0.16666666666666666, \"interactionType\": 1, \"questionType\": 1, \"questionId\": \"1_ReviewsWritten\", \"learnToolsVersion\": \"0.3.4\", \"failureMessage\": \"\", \"exceptionClass\": \"\", \"trace\": \"\"}}, \"*\")"
      ],
      "text/plain": [
       "<IPython.core.display.Javascript object>"
      ]
     },
     "metadata": {},
     "output_type": "display_data"
    },
    {
     "data": {
      "text/markdown": [
       "<span style=\"color:#33cc33\">Correct:</span> \n",
       "\n",
       "\n",
       "```python\n",
       "reviews_written = reviews.groupby('taster_twitter_handle').size()\n",
       "```\n",
       "or\n",
       "```python\n",
       "reviews_written = reviews.groupby('taster_twitter_handle').taster_twitter_handle.count()\n",
       "```\n"
      ],
      "text/plain": [
       "Correct: \n",
       "\n",
       "\n",
       "```python\n",
       "reviews_written = reviews.groupby('taster_twitter_handle').size()\n",
       "```\n",
       "or\n",
       "```python\n",
       "reviews_written = reviews.groupby('taster_twitter_handle').taster_twitter_handle.count()\n",
       "```"
      ]
     },
     "metadata": {},
     "output_type": "display_data"
    }
   ],
   "source": [
    "# Your code here\n",
    "reviews_written = reviews.groupby('taster_twitter_handle').taster_twitter_handle.count()\n",
    "print(reviews_written)\n",
    "# Check your answer\n",
    "q1.check()"
   ]
  },
  {
   "cell_type": "code",
   "execution_count": 3,
   "id": "470af9a3",
   "metadata": {
    "execution": {
     "iopub.execute_input": "2023-12-28T04:33:50.483689Z",
     "iopub.status.busy": "2023-12-28T04:33:50.483322Z",
     "iopub.status.idle": "2023-12-28T04:33:50.487821Z",
     "shell.execute_reply": "2023-12-28T04:33:50.486777Z"
    },
    "papermill": {
     "duration": 0.01409,
     "end_time": "2023-12-28T04:33:50.489907",
     "exception": false,
     "start_time": "2023-12-28T04:33:50.475817",
     "status": "completed"
    },
    "tags": []
   },
   "outputs": [],
   "source": [
    "#q1.hint()\n",
    "#q1.solution()"
   ]
  },
  {
   "cell_type": "markdown",
   "id": "67d98b29",
   "metadata": {
    "papermill": {
     "duration": 0.006163,
     "end_time": "2023-12-28T04:33:50.502438",
     "exception": false,
     "start_time": "2023-12-28T04:33:50.496275",
     "status": "completed"
    },
    "tags": []
   },
   "source": [
    "## 2.\n",
    "What is the best wine I can buy for a given amount of money? Create a `Series` whose index is wine prices and whose values is the maximum number of points a wine costing that much was given in a review. Sort the values by price, ascending (so that `4.0` dollars is at the top and `3300.0` dollars is at the bottom)."
   ]
  },
  {
   "cell_type": "code",
   "execution_count": 4,
   "id": "6e9721e9",
   "metadata": {
    "execution": {
     "iopub.execute_input": "2023-12-28T04:33:50.516540Z",
     "iopub.status.busy": "2023-12-28T04:33:50.516125Z",
     "iopub.status.idle": "2023-12-28T04:33:50.534106Z",
     "shell.execute_reply": "2023-12-28T04:33:50.533160Z"
    },
    "papermill": {
     "duration": 0.027548,
     "end_time": "2023-12-28T04:33:50.536180",
     "exception": false,
     "start_time": "2023-12-28T04:33:50.508632",
     "status": "completed"
    },
    "tags": []
   },
   "outputs": [
    {
     "name": "stdout",
     "output_type": "stream",
     "text": [
      "price\n",
      "4.0       86\n",
      "5.0       87\n",
      "6.0       88\n",
      "7.0       91\n",
      "8.0       91\n",
      "          ..\n",
      "1900.0    98\n",
      "2000.0    97\n",
      "2013.0    91\n",
      "2500.0    96\n",
      "3300.0    88\n",
      "Name: points, Length: 390, dtype: int64\n",
      "price\n",
      "4.0       86\n",
      "5.0       87\n",
      "6.0       88\n",
      "7.0       91\n",
      "8.0       91\n",
      "          ..\n",
      "1900.0    98\n",
      "2000.0    97\n",
      "2013.0    91\n",
      "2500.0    96\n",
      "3300.0    88\n",
      "Name: points, Length: 390, dtype: int64\n"
     ]
    },
    {
     "data": {
      "application/javascript": [
       "parent.postMessage({\"jupyterEvent\": \"custom.exercise_interaction\", \"data\": {\"outcomeType\": 1, \"valueTowardsCompletion\": 0.16666666666666666, \"interactionType\": 1, \"questionType\": 1, \"questionId\": \"2_BestRatingPerPrice\", \"learnToolsVersion\": \"0.3.4\", \"failureMessage\": \"\", \"exceptionClass\": \"\", \"trace\": \"\"}}, \"*\")"
      ],
      "text/plain": [
       "<IPython.core.display.Javascript object>"
      ]
     },
     "metadata": {},
     "output_type": "display_data"
    },
    {
     "data": {
      "text/markdown": [
       "<span style=\"color:#33cc33\">Correct</span>"
      ],
      "text/plain": [
       "Correct"
      ]
     },
     "metadata": {},
     "output_type": "display_data"
    }
   ],
   "source": [
    "points_price = reviews.groupby('price').points.max() #sort by price, get max points\n",
    "print(points_price)\n",
    "\n",
    "best_rating_per_price = points_price.sort_index()\n",
    "print(best_rating_per_price)\n",
    "# Check your answer\n",
    "q2.check()"
   ]
  },
  {
   "cell_type": "code",
   "execution_count": 5,
   "id": "ef28ee5a",
   "metadata": {
    "execution": {
     "iopub.execute_input": "2023-12-28T04:33:50.551316Z",
     "iopub.status.busy": "2023-12-28T04:33:50.550592Z",
     "iopub.status.idle": "2023-12-28T04:33:50.555159Z",
     "shell.execute_reply": "2023-12-28T04:33:50.554248Z"
    },
    "papermill": {
     "duration": 0.014778,
     "end_time": "2023-12-28T04:33:50.557664",
     "exception": false,
     "start_time": "2023-12-28T04:33:50.542886",
     "status": "completed"
    },
    "tags": []
   },
   "outputs": [],
   "source": [
    "#q2.hint()\n",
    "#q2.solution()"
   ]
  },
  {
   "cell_type": "markdown",
   "id": "11f5a082",
   "metadata": {
    "papermill": {
     "duration": 0.00624,
     "end_time": "2023-12-28T04:33:50.570683",
     "exception": false,
     "start_time": "2023-12-28T04:33:50.564443",
     "status": "completed"
    },
    "tags": []
   },
   "source": [
    "## 3.\n",
    "What are the minimum and maximum prices for each `variety` of wine? Create a `DataFrame` whose index is the `variety` category from the dataset and whose values are the `min` and `max` values thereof."
   ]
  },
  {
   "cell_type": "code",
   "execution_count": 6,
   "id": "447f9760",
   "metadata": {
    "execution": {
     "iopub.execute_input": "2023-12-28T04:33:50.585441Z",
     "iopub.status.busy": "2023-12-28T04:33:50.585015Z",
     "iopub.status.idle": "2023-12-28T04:33:50.616497Z",
     "shell.execute_reply": "2023-12-28T04:33:50.615692Z"
    },
    "papermill": {
     "duration": 0.041131,
     "end_time": "2023-12-28T04:33:50.618467",
     "exception": false,
     "start_time": "2023-12-28T04:33:50.577336",
     "status": "completed"
    },
    "tags": []
   },
   "outputs": [
    {
     "name": "stdout",
     "output_type": "stream",
     "text": [
      "              min    max\n",
      "variety                 \n",
      "Abouriou     15.0   75.0\n",
      "Agiorgitiko  10.0   66.0\n",
      "Aglianico     6.0  180.0\n",
      "Aidani       27.0   27.0\n",
      "Airen         8.0   10.0\n",
      "...           ...    ...\n",
      "Zinfandel     5.0  100.0\n",
      "Zlahtina     13.0   16.0\n",
      "Zweigelt      9.0   70.0\n",
      "Çalkarası    19.0   19.0\n",
      "Žilavka      15.0   15.0\n",
      "\n",
      "[707 rows x 2 columns]\n"
     ]
    },
    {
     "data": {
      "application/javascript": [
       "parent.postMessage({\"jupyterEvent\": \"custom.exercise_interaction\", \"data\": {\"outcomeType\": 1, \"valueTowardsCompletion\": 0.16666666666666666, \"interactionType\": 1, \"questionType\": 1, \"questionId\": \"3_PriceExtremes\", \"learnToolsVersion\": \"0.3.4\", \"failureMessage\": \"\", \"exceptionClass\": \"\", \"trace\": \"\"}}, \"*\")"
      ],
      "text/plain": [
       "<IPython.core.display.Javascript object>"
      ]
     },
     "metadata": {},
     "output_type": "display_data"
    },
    {
     "data": {
      "text/markdown": [
       "<span style=\"color:#33cc33\">Correct</span>"
      ],
      "text/plain": [
       "Correct"
      ]
     },
     "metadata": {},
     "output_type": "display_data"
    }
   ],
   "source": [
    "price_extremes = reviews.groupby('variety').price.agg([min, max])\n",
    "print(price_extremes)\n",
    "# Check your answer\n",
    "q3.check()"
   ]
  },
  {
   "cell_type": "code",
   "execution_count": 7,
   "id": "6b136407",
   "metadata": {
    "execution": {
     "iopub.execute_input": "2023-12-28T04:33:50.633840Z",
     "iopub.status.busy": "2023-12-28T04:33:50.633499Z",
     "iopub.status.idle": "2023-12-28T04:33:50.637014Z",
     "shell.execute_reply": "2023-12-28T04:33:50.636245Z"
    },
    "papermill": {
     "duration": 0.013725,
     "end_time": "2023-12-28T04:33:50.639106",
     "exception": false,
     "start_time": "2023-12-28T04:33:50.625381",
     "status": "completed"
    },
    "tags": []
   },
   "outputs": [],
   "source": [
    "#q3.hint()\n",
    "#q3.solution()"
   ]
  },
  {
   "cell_type": "markdown",
   "id": "a4b5ceb9",
   "metadata": {
    "papermill": {
     "duration": 0.006815,
     "end_time": "2023-12-28T04:33:50.653334",
     "exception": false,
     "start_time": "2023-12-28T04:33:50.646519",
     "status": "completed"
    },
    "tags": []
   },
   "source": [
    "## 4.\n",
    "What are the most expensive wine varieties? Create a variable `sorted_varieties` containing a copy of the dataframe from the previous question where varieties are sorted in descending order based on minimum price, then on maximum price (to break ties)."
   ]
  },
  {
   "cell_type": "code",
   "execution_count": 8,
   "id": "d4df980b",
   "metadata": {
    "execution": {
     "iopub.execute_input": "2023-12-28T04:33:50.669581Z",
     "iopub.status.busy": "2023-12-28T04:33:50.669191Z",
     "iopub.status.idle": "2023-12-28T04:33:50.683213Z",
     "shell.execute_reply": "2023-12-28T04:33:50.682137Z"
    },
    "papermill": {
     "duration": 0.024645,
     "end_time": "2023-12-28T04:33:50.685129",
     "exception": false,
     "start_time": "2023-12-28T04:33:50.660484",
     "status": "completed"
    },
    "tags": []
   },
   "outputs": [
    {
     "name": "stdout",
     "output_type": "stream",
     "text": [
      "                                  min    max\n",
      "variety                                     \n",
      "Ramisco                         495.0  495.0\n",
      "Terrantez                       236.0  236.0\n",
      "Francisa                        160.0  160.0\n",
      "Rosenmuskateller                150.0  150.0\n",
      "Tinta Negra Mole                112.0  112.0\n",
      "...                               ...    ...\n",
      "Roscetto                          NaN    NaN\n",
      "Sauvignon Blanc-Sauvignon Gris    NaN    NaN\n",
      "Tempranillo-Malbec                NaN    NaN\n",
      "Vital                             NaN    NaN\n",
      "Zelen                             NaN    NaN\n",
      "\n",
      "[707 rows x 2 columns]\n"
     ]
    },
    {
     "data": {
      "application/javascript": [
       "parent.postMessage({\"jupyterEvent\": \"custom.exercise_interaction\", \"data\": {\"outcomeType\": 1, \"valueTowardsCompletion\": 0.16666666666666666, \"interactionType\": 1, \"questionType\": 1, \"questionId\": \"4_SortedVarieties\", \"learnToolsVersion\": \"0.3.4\", \"failureMessage\": \"\", \"exceptionClass\": \"\", \"trace\": \"\"}}, \"*\")"
      ],
      "text/plain": [
       "<IPython.core.display.Javascript object>"
      ]
     },
     "metadata": {},
     "output_type": "display_data"
    },
    {
     "data": {
      "text/markdown": [
       "<span style=\"color:#33cc33\">Correct</span>"
      ],
      "text/plain": [
       "Correct"
      ]
     },
     "metadata": {},
     "output_type": "display_data"
    }
   ],
   "source": [
    "sorted_varieties = price_extremes.sort_values(by=['min', 'max'], ascending=False)\n",
    "print(sorted_varieties)\n",
    "\n",
    "# Check your answer\n",
    "q4.check()"
   ]
  },
  {
   "cell_type": "code",
   "execution_count": 9,
   "id": "f9fa3a39",
   "metadata": {
    "execution": {
     "iopub.execute_input": "2023-12-28T04:33:50.701704Z",
     "iopub.status.busy": "2023-12-28T04:33:50.701315Z",
     "iopub.status.idle": "2023-12-28T04:33:50.705868Z",
     "shell.execute_reply": "2023-12-28T04:33:50.704802Z"
    },
    "papermill": {
     "duration": 0.015061,
     "end_time": "2023-12-28T04:33:50.707930",
     "exception": false,
     "start_time": "2023-12-28T04:33:50.692869",
     "status": "completed"
    },
    "tags": []
   },
   "outputs": [],
   "source": [
    "#q4.hint()\n",
    "#q4.solution()"
   ]
  },
  {
   "cell_type": "markdown",
   "id": "83af6893",
   "metadata": {
    "papermill": {
     "duration": 0.006999,
     "end_time": "2023-12-28T04:33:50.722227",
     "exception": false,
     "start_time": "2023-12-28T04:33:50.715228",
     "status": "completed"
    },
    "tags": []
   },
   "source": [
    "## 5.\n",
    "Create a `Series` whose index is reviewers and whose values is the average review score given out by that reviewer. Hint: you will need the `taster_name` and `points` columns."
   ]
  },
  {
   "cell_type": "code",
   "execution_count": 10,
   "id": "58472648",
   "metadata": {
    "execution": {
     "iopub.execute_input": "2023-12-28T04:33:50.738990Z",
     "iopub.status.busy": "2023-12-28T04:33:50.738598Z",
     "iopub.status.idle": "2023-12-28T04:33:50.762377Z",
     "shell.execute_reply": "2023-12-28T04:33:50.761302Z"
    },
    "papermill": {
     "duration": 0.035161,
     "end_time": "2023-12-28T04:33:50.764688",
     "exception": false,
     "start_time": "2023-12-28T04:33:50.729527",
     "status": "completed"
    },
    "tags": []
   },
   "outputs": [
    {
     "name": "stdout",
     "output_type": "stream",
     "text": [
      "taster_name\n",
      "Alexander Peartree    85.855422\n",
      "Anna Lee C. Iijima    88.415629\n",
      "Anne Krebiehl MW      90.562551\n",
      "Carrie Dykes          86.395683\n",
      "Christina Pickard     87.833333\n",
      "Fiona Adams           86.888889\n",
      "Jeff Jenssen          88.319756\n",
      "Jim Gordon            88.626287\n",
      "Joe Czerwinski        88.536235\n",
      "Kerin O’Keefe         88.867947\n",
      "Lauren Buzzeo         87.739510\n",
      "Matt Kettmann         90.008686\n",
      "Michael Schachner     86.907493\n",
      "Mike DeSimone         89.101167\n",
      "Paul Gregutt          89.082564\n",
      "Roger Voss            88.708003\n",
      "Sean P. Sullivan      88.755739\n",
      "Susan Kostrzewa       86.609217\n",
      "Virginie Boone        89.213379\n",
      "Name: points, dtype: float64\n"
     ]
    },
    {
     "data": {
      "application/javascript": [
       "parent.postMessage({\"jupyterEvent\": \"custom.exercise_interaction\", \"data\": {\"outcomeType\": 1, \"valueTowardsCompletion\": 0.16666666666666666, \"interactionType\": 1, \"questionType\": 1, \"questionId\": \"5_ReviewerMeanRatings\", \"learnToolsVersion\": \"0.3.4\", \"failureMessage\": \"\", \"exceptionClass\": \"\", \"trace\": \"\"}}, \"*\")"
      ],
      "text/plain": [
       "<IPython.core.display.Javascript object>"
      ]
     },
     "metadata": {},
     "output_type": "display_data"
    },
    {
     "data": {
      "text/markdown": [
       "<span style=\"color:#33cc33\">Correct</span>"
      ],
      "text/plain": [
       "Correct"
      ]
     },
     "metadata": {},
     "output_type": "display_data"
    }
   ],
   "source": [
    "reviewer_mean_ratings = reviews.groupby('taster_name').points.mean()\n",
    "print(reviewer_mean_ratings)\n",
    "\n",
    "# Check your answer\n",
    "q5.check()"
   ]
  },
  {
   "cell_type": "code",
   "execution_count": 11,
   "id": "55e02b60",
   "metadata": {
    "execution": {
     "iopub.execute_input": "2023-12-28T04:33:50.783240Z",
     "iopub.status.busy": "2023-12-28T04:33:50.782607Z",
     "iopub.status.idle": "2023-12-28T04:33:50.786886Z",
     "shell.execute_reply": "2023-12-28T04:33:50.785983Z"
    },
    "papermill": {
     "duration": 0.016239,
     "end_time": "2023-12-28T04:33:50.788987",
     "exception": false,
     "start_time": "2023-12-28T04:33:50.772748",
     "status": "completed"
    },
    "tags": []
   },
   "outputs": [],
   "source": [
    "#q5.hint()\n",
    "#q5.solution()"
   ]
  },
  {
   "cell_type": "markdown",
   "id": "15a398f1",
   "metadata": {
    "papermill": {
     "duration": 0.007333,
     "end_time": "2023-12-28T04:33:50.804714",
     "exception": false,
     "start_time": "2023-12-28T04:33:50.797381",
     "status": "completed"
    },
    "tags": []
   },
   "source": [
    "Are there significant differences in the average scores assigned by the various reviewers? Run the cell below to use the `describe()` method to see a summary of the range of values."
   ]
  },
  {
   "cell_type": "code",
   "execution_count": 12,
   "id": "723c2071",
   "metadata": {
    "execution": {
     "iopub.execute_input": "2023-12-28T04:33:50.821716Z",
     "iopub.status.busy": "2023-12-28T04:33:50.821363Z",
     "iopub.status.idle": "2023-12-28T04:33:50.832745Z",
     "shell.execute_reply": "2023-12-28T04:33:50.831901Z"
    },
    "papermill": {
     "duration": 0.022335,
     "end_time": "2023-12-28T04:33:50.834872",
     "exception": false,
     "start_time": "2023-12-28T04:33:50.812537",
     "status": "completed"
    },
    "tags": []
   },
   "outputs": [
    {
     "data": {
      "text/plain": [
       "count    19.000000\n",
       "mean     88.233026\n",
       "std       1.243610\n",
       "min      85.855422\n",
       "25%      87.323501\n",
       "50%      88.536235\n",
       "75%      88.975256\n",
       "max      90.562551\n",
       "Name: points, dtype: float64"
      ]
     },
     "execution_count": 12,
     "metadata": {},
     "output_type": "execute_result"
    }
   ],
   "source": [
    "reviewer_mean_ratings.describe()"
   ]
  },
  {
   "cell_type": "markdown",
   "id": "0f511eb7",
   "metadata": {
    "papermill": {
     "duration": 0.007515,
     "end_time": "2023-12-28T04:33:50.850342",
     "exception": false,
     "start_time": "2023-12-28T04:33:50.842827",
     "status": "completed"
    },
    "tags": []
   },
   "source": [
    "## 6.\n",
    "What combination of countries and varieties are most common? Create a `Series` whose index is a `MultiIndex`of `{country, variety}` pairs. For example, a pinot noir produced in the US should map to `{\"US\", \"Pinot Noir\"}`. Sort the values in the `Series` in descending order based on wine count."
   ]
  },
  {
   "cell_type": "code",
   "execution_count": 13,
   "id": "ed205167",
   "metadata": {
    "execution": {
     "iopub.execute_input": "2023-12-28T04:33:50.868477Z",
     "iopub.status.busy": "2023-12-28T04:33:50.867759Z",
     "iopub.status.idle": "2023-12-28T04:33:50.913698Z",
     "shell.execute_reply": "2023-12-28T04:33:50.912570Z"
    },
    "papermill": {
     "duration": 0.057511,
     "end_time": "2023-12-28T04:33:50.915763",
     "exception": false,
     "start_time": "2023-12-28T04:33:50.858252",
     "status": "completed"
    },
    "tags": []
   },
   "outputs": [
    {
     "name": "stdout",
     "output_type": "stream",
     "text": [
      "country    variety                   \n",
      "Argentina  Barbera                         1\n",
      "           Bonarda                       105\n",
      "           Bordeaux-style Red Blend       89\n",
      "           Bordeaux-style White Blend      1\n",
      "           Cabernet Blend                  8\n",
      "                                        ... \n",
      "Uruguay    Tannat-Cabernet Franc           2\n",
      "           Tannat-Merlot                   6\n",
      "           Tannat-Syrah                    1\n",
      "           Tempranillo-Tannat              1\n",
      "           White Blend                     1\n",
      "Length: 1612, dtype: int64\n",
      "country  variety                 \n",
      "US       Pinot Noir                  9885\n",
      "         Cabernet Sauvignon          7315\n",
      "         Chardonnay                  6801\n",
      "France   Bordeaux-style Red Blend    4725\n",
      "Italy    Red Blend                   3624\n",
      "                                     ... \n",
      "Mexico   Cinsault                       1\n",
      "         Grenache                       1\n",
      "         Merlot                         1\n",
      "         Rosado                         1\n",
      "Uruguay  White Blend                    1\n",
      "Length: 1612, dtype: int64\n"
     ]
    },
    {
     "data": {
      "application/javascript": [
       "parent.postMessage({\"jupyterEvent\": \"custom.exercise_interaction\", \"data\": {\"outcomeType\": 1, \"valueTowardsCompletion\": 0.16666666666666666, \"interactionType\": 1, \"questionType\": 1, \"questionId\": \"6_GroupbyCountryVariety\", \"learnToolsVersion\": \"0.3.4\", \"failureMessage\": \"\", \"exceptionClass\": \"\", \"trace\": \"\"}}, \"*\")"
      ],
      "text/plain": [
       "<IPython.core.display.Javascript object>"
      ]
     },
     "metadata": {},
     "output_type": "display_data"
    },
    {
     "data": {
      "text/markdown": [
       "<span style=\"color:#33cc33\">Correct</span>"
      ],
      "text/plain": [
       "Correct"
      ]
     },
     "metadata": {},
     "output_type": "display_data"
    }
   ],
   "source": [
    "variety = reviews.groupby(['country', 'variety']).size()\n",
    "print(variety)\n",
    "country_variety_counts = variety.sort_values(ascending=False)\n",
    "print(country_variety_counts)\n",
    "# Check your answer\n",
    "q6.check()"
   ]
  },
  {
   "cell_type": "code",
   "execution_count": 14,
   "id": "33d39076",
   "metadata": {
    "execution": {
     "iopub.execute_input": "2023-12-28T04:33:50.934091Z",
     "iopub.status.busy": "2023-12-28T04:33:50.933693Z",
     "iopub.status.idle": "2023-12-28T04:33:50.937748Z",
     "shell.execute_reply": "2023-12-28T04:33:50.936719Z"
    },
    "papermill": {
     "duration": 0.01596,
     "end_time": "2023-12-28T04:33:50.940111",
     "exception": false,
     "start_time": "2023-12-28T04:33:50.924151",
     "status": "completed"
    },
    "tags": []
   },
   "outputs": [],
   "source": [
    "#q6.hint()\n",
    "#q6.solution()"
   ]
  },
  {
   "cell_type": "markdown",
   "id": "3ab69a96",
   "metadata": {
    "papermill": {
     "duration": 0.008116,
     "end_time": "2023-12-28T04:33:50.956423",
     "exception": false,
     "start_time": "2023-12-28T04:33:50.948307",
     "status": "completed"
    },
    "tags": []
   },
   "source": [
    "# Keep going\n",
    "\n",
    "Move on to the [**data types and missing data**](https://www.kaggle.com/residentmario/data-types-and-missing-values)."
   ]
  },
  {
   "cell_type": "markdown",
   "id": "f866d411",
   "metadata": {
    "papermill": {
     "duration": 0.007698,
     "end_time": "2023-12-28T04:33:50.972325",
     "exception": false,
     "start_time": "2023-12-28T04:33:50.964627",
     "status": "completed"
    },
    "tags": []
   },
   "source": [
    "---\n",
    "\n",
    "\n",
    "\n",
    "\n",
    "*Have questions or comments? Visit the [course discussion forum](https://www.kaggle.com/learn/pandas/discussion) to chat with other learners.*"
   ]
  }
 ],
 "metadata": {
  "kaggle": {
   "accelerator": "none",
   "dataSources": [
    {
     "datasetId": 655,
     "sourceId": 1252,
     "sourceType": "datasetVersion"
    },
    {
     "datasetId": 2321,
     "sourceId": 3919,
     "sourceType": "datasetVersion"
    },
    {
     "datasetId": 2894,
     "sourceId": 4877,
     "sourceType": "datasetVersion"
    },
    {
     "datasetId": 3491,
     "sourceId": 5624,
     "sourceType": "datasetVersion"
    },
    {
     "datasetId": 1442,
     "sourceId": 8172,
     "sourceType": "datasetVersion"
    },
    {
     "datasetId": 9366,
     "sourceId": 13206,
     "sourceType": "datasetVersion"
    },
    {
     "datasetId": 179555,
     "sourceId": 403916,
     "sourceType": "datasetVersion"
    },
    {
     "datasetId": 4549,
     "sourceId": 466349,
     "sourceType": "datasetVersion"
    },
    {
     "datasetId": 2478,
     "sourceId": 1151655,
     "sourceType": "datasetVersion"
    },
    {
     "datasetId": 10128,
     "sourceId": 5438389,
     "sourceType": "datasetVersion"
    }
   ],
   "isGpuEnabled": false,
   "isInternetEnabled": false,
   "language": "python",
   "sourceType": "notebook"
  },
  "kernelspec": {
   "display_name": "Python 3",
   "language": "python",
   "name": "python3"
  },
  "language_info": {
   "codemirror_mode": {
    "name": "ipython",
    "version": 3
   },
   "file_extension": ".py",
   "mimetype": "text/x-python",
   "name": "python",
   "nbconvert_exporter": "python",
   "pygments_lexer": "ipython3",
   "version": "3.10.12"
  },
  "papermill": {
   "default_parameters": {},
   "duration": 7.601766,
   "end_time": "2023-12-28T04:33:51.500272",
   "environment_variables": {},
   "exception": null,
   "input_path": "__notebook__.ipynb",
   "output_path": "__notebook__.ipynb",
   "parameters": {},
   "start_time": "2023-12-28T04:33:43.898506",
   "version": "2.4.0"
  }
 },
 "nbformat": 4,
 "nbformat_minor": 5
}
