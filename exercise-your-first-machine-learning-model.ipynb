{
 "cells": [
  {
   "cell_type": "markdown",
   "id": "d18d1e49",
   "metadata": {
    "papermill": {
     "duration": 0.0085,
     "end_time": "2023-12-28T18:42:40.189375",
     "exception": false,
     "start_time": "2023-12-28T18:42:40.180875",
     "status": "completed"
    },
    "tags": []
   },
   "source": [
    "**This notebook is an exercise in the [Introduction to Machine Learning](https://www.kaggle.com/learn/intro-to-machine-learning) course.  You can reference the tutorial at [this link](https://www.kaggle.com/dansbecker/your-first-machine-learning-model).**\n",
    "\n",
    "---\n"
   ]
  },
  {
   "cell_type": "markdown",
   "id": "8f221339",
   "metadata": {
    "papermill": {
     "duration": 0.00662,
     "end_time": "2023-12-28T18:42:40.203194",
     "exception": false,
     "start_time": "2023-12-28T18:42:40.196574",
     "status": "completed"
    },
    "tags": []
   },
   "source": [
    "## Recap\n",
    "So far, you have loaded your data and reviewed it with the following code. Run this cell to set up your coding environment where the previous step left off."
   ]
  },
  {
   "cell_type": "code",
   "execution_count": 1,
   "id": "eda1b436",
   "metadata": {
    "execution": {
     "iopub.execute_input": "2023-12-28T18:42:40.218890Z",
     "iopub.status.busy": "2023-12-28T18:42:40.218392Z",
     "iopub.status.idle": "2023-12-28T18:42:42.097165Z",
     "shell.execute_reply": "2023-12-28T18:42:42.095764Z"
    },
    "papermill": {
     "duration": 1.889524,
     "end_time": "2023-12-28T18:42:42.099638",
     "exception": false,
     "start_time": "2023-12-28T18:42:40.210114",
     "status": "completed"
    },
    "tags": []
   },
   "outputs": [
    {
     "name": "stdout",
     "output_type": "stream",
     "text": [
      "Setup Complete\n"
     ]
    }
   ],
   "source": [
    "# Code you have previously used to load data\n",
    "import pandas as pd\n",
    "\n",
    "# Path of the file to read\n",
    "iowa_file_path = '../input/home-data-for-ml-course/train.csv'\n",
    "\n",
    "home_data = pd.read_csv(iowa_file_path)\n",
    "\n",
    "# Set up code checking\n",
    "from learntools.core import binder\n",
    "binder.bind(globals())\n",
    "from learntools.machine_learning.ex3 import *\n",
    "\n",
    "print(\"Setup Complete\")"
   ]
  },
  {
   "cell_type": "markdown",
   "id": "f91e37ef",
   "metadata": {
    "papermill": {
     "duration": 0.006966,
     "end_time": "2023-12-28T18:42:42.113640",
     "exception": false,
     "start_time": "2023-12-28T18:42:42.106674",
     "status": "completed"
    },
    "tags": []
   },
   "source": [
    "# Exercises\n",
    "\n",
    "## Step 1: Specify Prediction Target\n",
    "Select the target variable, which corresponds to the sales price. Save this to a new variable called `y`. You'll need to print a list of the columns to find the name of the column you need.\n"
   ]
  },
  {
   "cell_type": "code",
   "execution_count": 2,
   "id": "02d06081",
   "metadata": {
    "collapsed": true,
    "execution": {
     "iopub.execute_input": "2023-12-28T18:42:42.129723Z",
     "iopub.status.busy": "2023-12-28T18:42:42.128838Z",
     "iopub.status.idle": "2023-12-28T18:42:42.133655Z",
     "shell.execute_reply": "2023-12-28T18:42:42.132769Z"
    },
    "jupyter": {
     "outputs_hidden": true
    },
    "papermill": {
     "duration": 0.015456,
     "end_time": "2023-12-28T18:42:42.135999",
     "exception": false,
     "start_time": "2023-12-28T18:42:42.120543",
     "status": "completed"
    },
    "tags": []
   },
   "outputs": [],
   "source": [
    "# print the list of columns in the dataset to find the name of the prediction target\n"
   ]
  },
  {
   "cell_type": "code",
   "execution_count": 3,
   "id": "26d07ba5",
   "metadata": {
    "execution": {
     "iopub.execute_input": "2023-12-28T18:42:42.151867Z",
     "iopub.status.busy": "2023-12-28T18:42:42.151267Z",
     "iopub.status.idle": "2023-12-28T18:42:42.168556Z",
     "shell.execute_reply": "2023-12-28T18:42:42.167654Z"
    },
    "papermill": {
     "duration": 0.027621,
     "end_time": "2023-12-28T18:42:42.170703",
     "exception": false,
     "start_time": "2023-12-28T18:42:42.143082",
     "status": "completed"
    },
    "tags": []
   },
   "outputs": [
    {
     "name": "stdout",
     "output_type": "stream",
     "text": [
      "Index(['Id', 'MSSubClass', 'MSZoning', 'LotFrontage', 'LotArea', 'Street',\n",
      "       'Alley', 'LotShape', 'LandContour', 'Utilities', 'LotConfig',\n",
      "       'LandSlope', 'Neighborhood', 'Condition1', 'Condition2', 'BldgType',\n",
      "       'HouseStyle', 'OverallQual', 'OverallCond', 'YearBuilt', 'YearRemodAdd',\n",
      "       'RoofStyle', 'RoofMatl', 'Exterior1st', 'Exterior2nd', 'MasVnrType',\n",
      "       'MasVnrArea', 'ExterQual', 'ExterCond', 'Foundation', 'BsmtQual',\n",
      "       'BsmtCond', 'BsmtExposure', 'BsmtFinType1', 'BsmtFinSF1',\n",
      "       'BsmtFinType2', 'BsmtFinSF2', 'BsmtUnfSF', 'TotalBsmtSF', 'Heating',\n",
      "       'HeatingQC', 'CentralAir', 'Electrical', '1stFlrSF', '2ndFlrSF',\n",
      "       'LowQualFinSF', 'GrLivArea', 'BsmtFullBath', 'BsmtHalfBath', 'FullBath',\n",
      "       'HalfBath', 'BedroomAbvGr', 'KitchenAbvGr', 'KitchenQual',\n",
      "       'TotRmsAbvGrd', 'Functional', 'Fireplaces', 'FireplaceQu', 'GarageType',\n",
      "       'GarageYrBlt', 'GarageFinish', 'GarageCars', 'GarageArea', 'GarageQual',\n",
      "       'GarageCond', 'PavedDrive', 'WoodDeckSF', 'OpenPorchSF',\n",
      "       'EnclosedPorch', '3SsnPorch', 'ScreenPorch', 'PoolArea', 'PoolQC',\n",
      "       'Fence', 'MiscFeature', 'MiscVal', 'MoSold', 'YrSold', 'SaleType',\n",
      "       'SaleCondition', 'SalePrice'],\n",
      "      dtype='object')\n"
     ]
    },
    {
     "data": {
      "application/javascript": [
       "parent.postMessage({\"jupyterEvent\": \"custom.exercise_interaction\", \"data\": {\"outcomeType\": 1, \"valueTowardsCompletion\": 0.25, \"interactionType\": 1, \"questionType\": 2, \"questionId\": \"1_SetTarget\", \"learnToolsVersion\": \"0.3.4\", \"failureMessage\": \"\", \"exceptionClass\": \"\", \"trace\": \"\"}}, \"*\")"
      ],
      "text/plain": [
       "<IPython.core.display.Javascript object>"
      ]
     },
     "metadata": {},
     "output_type": "display_data"
    },
    {
     "data": {
      "text/markdown": [
       "<span style=\"color:#33cc33\">Correct</span>"
      ],
      "text/plain": [
       "Correct"
      ]
     },
     "metadata": {},
     "output_type": "display_data"
    }
   ],
   "source": [
    "print(home_data.columns)\n",
    "y = home_data.SalePrice\n",
    "\n",
    "# Check your answer\n",
    "step_1.check()"
   ]
  },
  {
   "cell_type": "code",
   "execution_count": 4,
   "id": "2e7eb6e4",
   "metadata": {
    "collapsed": true,
    "execution": {
     "iopub.execute_input": "2023-12-28T18:42:42.187588Z",
     "iopub.status.busy": "2023-12-28T18:42:42.186969Z",
     "iopub.status.idle": "2023-12-28T18:42:42.191235Z",
     "shell.execute_reply": "2023-12-28T18:42:42.190242Z"
    },
    "jupyter": {
     "outputs_hidden": true
    },
    "papermill": {
     "duration": 0.015062,
     "end_time": "2023-12-28T18:42:42.193425",
     "exception": false,
     "start_time": "2023-12-28T18:42:42.178363",
     "status": "completed"
    },
    "tags": []
   },
   "outputs": [],
   "source": [
    "# The lines below will show you a hint or the solution.\n",
    "# step_1.hint() \n",
    "# step_1.solution()"
   ]
  },
  {
   "cell_type": "markdown",
   "id": "53322a37",
   "metadata": {
    "papermill": {
     "duration": 0.007382,
     "end_time": "2023-12-28T18:42:42.208340",
     "exception": false,
     "start_time": "2023-12-28T18:42:42.200958",
     "status": "completed"
    },
    "tags": []
   },
   "source": [
    "## Step 2: Create X\n",
    "Now you will create a DataFrame called `X` holding the predictive features.\n",
    "\n",
    "Since you want only some columns from the original data, you'll first create a list with the names of the columns you want in `X`.\n",
    "\n",
    "You'll use just the following columns in the list (you can copy and paste the whole list to save some typing, though you'll still need to add quotes):\n",
    "  * LotArea\n",
    "  * YearBuilt\n",
    "  * 1stFlrSF\n",
    "  * 2ndFlrSF\n",
    "  * FullBath\n",
    "  * BedroomAbvGr\n",
    "  * TotRmsAbvGrd\n",
    "\n",
    "After you've created that list of features, use it to create the DataFrame that you'll use to fit the model."
   ]
  },
  {
   "cell_type": "code",
   "execution_count": 5,
   "id": "9db3225d",
   "metadata": {
    "execution": {
     "iopub.execute_input": "2023-12-28T18:42:42.225593Z",
     "iopub.status.busy": "2023-12-28T18:42:42.225140Z",
     "iopub.status.idle": "2023-12-28T18:42:42.241550Z",
     "shell.execute_reply": "2023-12-28T18:42:42.240834Z"
    },
    "papermill": {
     "duration": 0.027882,
     "end_time": "2023-12-28T18:42:42.243968",
     "exception": false,
     "start_time": "2023-12-28T18:42:42.216086",
     "status": "completed"
    },
    "tags": []
   },
   "outputs": [
    {
     "data": {
      "application/javascript": [
       "parent.postMessage({\"jupyterEvent\": \"custom.exercise_interaction\", \"data\": {\"outcomeType\": 1, \"valueTowardsCompletion\": 0.25, \"interactionType\": 1, \"questionType\": 2, \"questionId\": \"2_SelectPredictionData\", \"learnToolsVersion\": \"0.3.4\", \"failureMessage\": \"\", \"exceptionClass\": \"\", \"trace\": \"\"}}, \"*\")"
      ],
      "text/plain": [
       "<IPython.core.display.Javascript object>"
      ]
     },
     "metadata": {},
     "output_type": "display_data"
    },
    {
     "data": {
      "text/markdown": [
       "<span style=\"color:#33cc33\">Correct</span>"
      ],
      "text/plain": [
       "Correct"
      ]
     },
     "metadata": {},
     "output_type": "display_data"
    }
   ],
   "source": [
    "# Create the list of features below\n",
    "feature_names = ['LotArea', 'YearBuilt', '1stFlrSF', '2ndFlrSF', 'FullBath', 'BedroomAbvGr', 'TotRmsAbvGrd']\n",
    "\n",
    "# Select data corresponding to features in feature_names\n",
    "X = home_data[feature_names]\n",
    "\n",
    "# Check your answer\n",
    "step_2.check()"
   ]
  },
  {
   "cell_type": "code",
   "execution_count": 6,
   "id": "96aecfdd",
   "metadata": {
    "collapsed": true,
    "execution": {
     "iopub.execute_input": "2023-12-28T18:42:42.261665Z",
     "iopub.status.busy": "2023-12-28T18:42:42.261097Z",
     "iopub.status.idle": "2023-12-28T18:42:42.264660Z",
     "shell.execute_reply": "2023-12-28T18:42:42.263757Z"
    },
    "jupyter": {
     "outputs_hidden": true
    },
    "papermill": {
     "duration": 0.01484,
     "end_time": "2023-12-28T18:42:42.266701",
     "exception": false,
     "start_time": "2023-12-28T18:42:42.251861",
     "status": "completed"
    },
    "tags": []
   },
   "outputs": [],
   "source": [
    "# step_2.hint()\n",
    "# step_2.solution()"
   ]
  },
  {
   "cell_type": "markdown",
   "id": "8b9d05d9",
   "metadata": {
    "papermill": {
     "duration": 0.0076,
     "end_time": "2023-12-28T18:42:42.282171",
     "exception": false,
     "start_time": "2023-12-28T18:42:42.274571",
     "status": "completed"
    },
    "tags": []
   },
   "source": [
    "## Review Data\n",
    "Before building a model, take a quick look at **X** to verify it looks sensible"
   ]
  },
  {
   "cell_type": "code",
   "execution_count": 7,
   "id": "565317c2",
   "metadata": {
    "execution": {
     "iopub.execute_input": "2023-12-28T18:42:42.300434Z",
     "iopub.status.busy": "2023-12-28T18:42:42.299998Z",
     "iopub.status.idle": "2023-12-28T18:42:42.332921Z",
     "shell.execute_reply": "2023-12-28T18:42:42.331875Z"
    },
    "papermill": {
     "duration": 0.045316,
     "end_time": "2023-12-28T18:42:42.335600",
     "exception": false,
     "start_time": "2023-12-28T18:42:42.290284",
     "status": "completed"
    },
    "tags": []
   },
   "outputs": [
    {
     "name": "stdout",
     "output_type": "stream",
     "text": [
      "             LotArea    YearBuilt     1stFlrSF     2ndFlrSF     FullBath  \\\n",
      "count    1460.000000  1460.000000  1460.000000  1460.000000  1460.000000   \n",
      "mean    10516.828082  1971.267808  1162.626712   346.992466     1.565068   \n",
      "std      9981.264932    30.202904   386.587738   436.528436     0.550916   \n",
      "min      1300.000000  1872.000000   334.000000     0.000000     0.000000   \n",
      "25%      7553.500000  1954.000000   882.000000     0.000000     1.000000   \n",
      "50%      9478.500000  1973.000000  1087.000000     0.000000     2.000000   \n",
      "75%     11601.500000  2000.000000  1391.250000   728.000000     2.000000   \n",
      "max    215245.000000  2010.000000  4692.000000  2065.000000     3.000000   \n",
      "\n",
      "       BedroomAbvGr  TotRmsAbvGrd  \n",
      "count   1460.000000   1460.000000  \n",
      "mean       2.866438      6.517808  \n",
      "std        0.815778      1.625393  \n",
      "min        0.000000      2.000000  \n",
      "25%        2.000000      5.000000  \n",
      "50%        3.000000      6.000000  \n",
      "75%        3.000000      7.000000  \n",
      "max        8.000000     14.000000  \n",
      "   LotArea  YearBuilt  1stFlrSF  2ndFlrSF  FullBath  BedroomAbvGr  \\\n",
      "0     8450       2003       856       854         2             3   \n",
      "1     9600       1976      1262         0         2             3   \n",
      "2    11250       2001       920       866         2             3   \n",
      "3     9550       1915       961       756         1             3   \n",
      "4    14260       2000      1145      1053         2             4   \n",
      "\n",
      "   TotRmsAbvGrd  \n",
      "0             8  \n",
      "1             6  \n",
      "2             6  \n",
      "3             7  \n",
      "4             9  \n"
     ]
    }
   ],
   "source": [
    "# Review data\n",
    "# print description or statistics from X\n",
    "print(X.describe())\n",
    "\n",
    "# print the top few lines\n",
    "print(X.head())"
   ]
  },
  {
   "cell_type": "markdown",
   "id": "16dc7a04",
   "metadata": {
    "papermill": {
     "duration": 0.007835,
     "end_time": "2023-12-28T18:42:42.351528",
     "exception": false,
     "start_time": "2023-12-28T18:42:42.343693",
     "status": "completed"
    },
    "tags": []
   },
   "source": [
    "## Step 3: Specify and Fit Model\n",
    "Create a `DecisionTreeRegressor` and save it iowa_model. Ensure you've done the relevant import from sklearn to run this command.\n",
    "\n",
    "Then fit the model you just created using the data in `X` and `y` that you saved above."
   ]
  },
  {
   "cell_type": "code",
   "execution_count": 8,
   "id": "30c622f5",
   "metadata": {
    "execution": {
     "iopub.execute_input": "2023-12-28T18:42:42.368856Z",
     "iopub.status.busy": "2023-12-28T18:42:42.368431Z",
     "iopub.status.idle": "2023-12-28T18:42:42.388031Z",
     "shell.execute_reply": "2023-12-28T18:42:42.387242Z"
    },
    "papermill": {
     "duration": 0.030428,
     "end_time": "2023-12-28T18:42:42.389851",
     "exception": false,
     "start_time": "2023-12-28T18:42:42.359423",
     "status": "completed"
    },
    "tags": []
   },
   "outputs": [
    {
     "data": {
      "application/javascript": [
       "parent.postMessage({\"jupyterEvent\": \"custom.exercise_interaction\", \"data\": {\"outcomeType\": 1, \"valueTowardsCompletion\": 0.25, \"interactionType\": 1, \"questionType\": 2, \"questionId\": \"3_CreateModel\", \"learnToolsVersion\": \"0.3.4\", \"failureMessage\": \"\", \"exceptionClass\": \"\", \"trace\": \"\"}}, \"*\")"
      ],
      "text/plain": [
       "<IPython.core.display.Javascript object>"
      ]
     },
     "metadata": {},
     "output_type": "display_data"
    },
    {
     "data": {
      "text/markdown": [
       "<span style=\"color:#33cc33\">Correct</span>"
      ],
      "text/plain": [
       "Correct"
      ]
     },
     "metadata": {},
     "output_type": "display_data"
    }
   ],
   "source": [
    "from sklearn.tree import DecisionTreeRegressor\n",
    "#specify the model. \n",
    "#For model reproducibility, set a numeric value for random_state when specifying the model\n",
    "iowa_model = DecisionTreeRegressor(random_state=1)\n",
    "\n",
    "# Fit the model\n",
    "iowa_model.fit(X, y)\n",
    "\n",
    "# Check your answer\n",
    "step_3.check()"
   ]
  },
  {
   "cell_type": "code",
   "execution_count": 9,
   "id": "76859f7b",
   "metadata": {
    "collapsed": true,
    "execution": {
     "iopub.execute_input": "2023-12-28T18:42:42.408837Z",
     "iopub.status.busy": "2023-12-28T18:42:42.407789Z",
     "iopub.status.idle": "2023-12-28T18:42:42.411778Z",
     "shell.execute_reply": "2023-12-28T18:42:42.411098Z"
    },
    "jupyter": {
     "outputs_hidden": true
    },
    "papermill": {
     "duration": 0.015546,
     "end_time": "2023-12-28T18:42:42.413880",
     "exception": false,
     "start_time": "2023-12-28T18:42:42.398334",
     "status": "completed"
    },
    "tags": []
   },
   "outputs": [],
   "source": [
    "# step_3.hint()\n",
    "# step_3.solution()"
   ]
  },
  {
   "cell_type": "markdown",
   "id": "da3c6c06",
   "metadata": {
    "papermill": {
     "duration": 0.008027,
     "end_time": "2023-12-28T18:42:42.430511",
     "exception": false,
     "start_time": "2023-12-28T18:42:42.422484",
     "status": "completed"
    },
    "tags": []
   },
   "source": [
    "## Step 4: Make Predictions\n",
    "Make predictions with the model's `predict` command using `X` as the data. Save the results to a variable called `predictions`."
   ]
  },
  {
   "cell_type": "code",
   "execution_count": 10,
   "id": "0ab252f3",
   "metadata": {
    "execution": {
     "iopub.execute_input": "2023-12-28T18:42:42.449248Z",
     "iopub.status.busy": "2023-12-28T18:42:42.448576Z",
     "iopub.status.idle": "2023-12-28T18:42:42.462390Z",
     "shell.execute_reply": "2023-12-28T18:42:42.461360Z"
    },
    "papermill": {
     "duration": 0.025688,
     "end_time": "2023-12-28T18:42:42.464525",
     "exception": false,
     "start_time": "2023-12-28T18:42:42.438837",
     "status": "completed"
    },
    "tags": []
   },
   "outputs": [
    {
     "name": "stdout",
     "output_type": "stream",
     "text": [
      "[208500. 181500. 223500. ... 266500. 142125. 147500.]\n"
     ]
    },
    {
     "data": {
      "application/javascript": [
       "parent.postMessage({\"jupyterEvent\": \"custom.exercise_interaction\", \"data\": {\"outcomeType\": 1, \"valueTowardsCompletion\": 0.25, \"interactionType\": 1, \"questionType\": 2, \"questionId\": \"4_MakePredictions\", \"learnToolsVersion\": \"0.3.4\", \"failureMessage\": \"\", \"exceptionClass\": \"\", \"trace\": \"\"}}, \"*\")"
      ],
      "text/plain": [
       "<IPython.core.display.Javascript object>"
      ]
     },
     "metadata": {},
     "output_type": "display_data"
    },
    {
     "data": {
      "text/markdown": [
       "<span style=\"color:#33cc33\">Correct</span>"
      ],
      "text/plain": [
       "Correct"
      ]
     },
     "metadata": {},
     "output_type": "display_data"
    }
   ],
   "source": [
    "predictions = iowa_model.predict(X)\n",
    "print(predictions)\n",
    "\n",
    "# Check your answer\n",
    "step_4.check()"
   ]
  },
  {
   "cell_type": "code",
   "execution_count": 11,
   "id": "b6ed599f",
   "metadata": {
    "collapsed": true,
    "execution": {
     "iopub.execute_input": "2023-12-28T18:42:42.485347Z",
     "iopub.status.busy": "2023-12-28T18:42:42.484568Z",
     "iopub.status.idle": "2023-12-28T18:42:42.489272Z",
     "shell.execute_reply": "2023-12-28T18:42:42.488373Z"
    },
    "jupyter": {
     "outputs_hidden": true
    },
    "papermill": {
     "duration": 0.017314,
     "end_time": "2023-12-28T18:42:42.491432",
     "exception": false,
     "start_time": "2023-12-28T18:42:42.474118",
     "status": "completed"
    },
    "tags": []
   },
   "outputs": [],
   "source": [
    "# step_4.hint()\n",
    "# step_4.solution()"
   ]
  },
  {
   "cell_type": "markdown",
   "id": "de07a6f9",
   "metadata": {
    "papermill": {
     "duration": 0.008843,
     "end_time": "2023-12-28T18:42:42.509569",
     "exception": false,
     "start_time": "2023-12-28T18:42:42.500726",
     "status": "completed"
    },
    "tags": []
   },
   "source": [
    "## Think About Your Results\n",
    "\n",
    "Use the `head` method to compare the top few predictions to the actual home values (in `y`) for those same homes. Anything surprising?\n"
   ]
  },
  {
   "cell_type": "code",
   "execution_count": 12,
   "id": "b5aed414",
   "metadata": {
    "execution": {
     "iopub.execute_input": "2023-12-28T18:42:42.529347Z",
     "iopub.status.busy": "2023-12-28T18:42:42.528680Z",
     "iopub.status.idle": "2023-12-28T18:42:42.535987Z",
     "shell.execute_reply": "2023-12-28T18:42:42.534658Z"
    },
    "papermill": {
     "duration": 0.020509,
     "end_time": "2023-12-28T18:42:42.539022",
     "exception": false,
     "start_time": "2023-12-28T18:42:42.518513",
     "status": "completed"
    },
    "tags": []
   },
   "outputs": [
    {
     "name": "stdout",
     "output_type": "stream",
     "text": [
      "0    208500\n",
      "1    181500\n",
      "2    223500\n",
      "3    140000\n",
      "4    250000\n",
      "Name: SalePrice, dtype: int64\n",
      "[208500. 181500. 223500. 140000. 250000.]\n"
     ]
    }
   ],
   "source": [
    "# You can write code in this cell\n",
    "print(y.head())\n",
    "\n",
    "print(predictions[0:5])"
   ]
  },
  {
   "cell_type": "markdown",
   "id": "1e83b3ee",
   "metadata": {
    "papermill": {
     "duration": 0.009017,
     "end_time": "2023-12-28T18:42:42.557328",
     "exception": false,
     "start_time": "2023-12-28T18:42:42.548311",
     "status": "completed"
    },
    "tags": []
   },
   "source": [
    "It's natural to ask how accurate the model's predictions will be and how you can improve that. That will be you're next step.\n",
    "\n",
    "# Keep Going\n",
    "\n",
    "You are ready for **[Model Validation](https://www.kaggle.com/dansbecker/model-validation).**\n"
   ]
  },
  {
   "cell_type": "markdown",
   "id": "2fe73c27",
   "metadata": {
    "papermill": {
     "duration": 0.008783,
     "end_time": "2023-12-28T18:42:42.575276",
     "exception": false,
     "start_time": "2023-12-28T18:42:42.566493",
     "status": "completed"
    },
    "tags": []
   },
   "source": [
    "Analysis:\n",
    "\n",
    "From what I have outputted, it seems like the model has perfectly predicted the results since both values for the original y data and the predicted data which is surprising to me? I am not sure if I am missing something or if this was the goal"
   ]
  },
  {
   "cell_type": "markdown",
   "id": "278ff678",
   "metadata": {
    "papermill": {
     "duration": 0.008803,
     "end_time": "2023-12-28T18:42:42.593005",
     "exception": false,
     "start_time": "2023-12-28T18:42:42.584202",
     "status": "completed"
    },
    "tags": []
   },
   "source": [
    "---\n",
    "\n",
    "\n",
    "\n",
    "\n",
    "*Have questions or comments? Visit the [course discussion forum](https://www.kaggle.com/learn/intro-to-machine-learning/discussion) to chat with other learners.*"
   ]
  }
 ],
 "metadata": {
  "kaggle": {
   "accelerator": "none",
   "dataSources": [
    {
     "databundleVersionId": 111096,
     "sourceId": 10211,
     "sourceType": "competition"
    },
    {
     "datasetId": 11167,
     "sourceId": 15520,
     "sourceType": "datasetVersion"
    },
    {
     "datasetId": 2709,
     "sourceId": 38454,
     "sourceType": "datasetVersion"
    }
   ],
   "isGpuEnabled": false,
   "isInternetEnabled": false,
   "language": "python",
   "sourceType": "notebook"
  },
  "kernelspec": {
   "display_name": "Python 3",
   "language": "python",
   "name": "python3"
  },
  "language_info": {
   "codemirror_mode": {
    "name": "ipython",
    "version": 3
   },
   "file_extension": ".py",
   "mimetype": "text/x-python",
   "name": "python",
   "nbconvert_exporter": "python",
   "pygments_lexer": "ipython3",
   "version": "3.10.12"
  },
  "papermill": {
   "default_parameters": {},
   "duration": 6.253987,
   "end_time": "2023-12-28T18:42:43.122291",
   "environment_variables": {},
   "exception": null,
   "input_path": "__notebook__.ipynb",
   "output_path": "__notebook__.ipynb",
   "parameters": {},
   "start_time": "2023-12-28T18:42:36.868304",
   "version": "2.4.0"
  }
 },
 "nbformat": 4,
 "nbformat_minor": 5
}
