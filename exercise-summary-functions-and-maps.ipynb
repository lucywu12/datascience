{
 "cells": [
  {
   "cell_type": "markdown",
   "id": "88324840",
   "metadata": {
    "papermill": {
     "duration": 0.00574,
     "end_time": "2023-12-28T02:04:59.905005",
     "exception": false,
     "start_time": "2023-12-28T02:04:59.899265",
     "status": "completed"
    },
    "tags": []
   },
   "source": [
    "**This notebook is an exercise in the [Pandas](https://www.kaggle.com/learn/pandas) course.  You can reference the tutorial at [this link](https://www.kaggle.com/residentmario/summary-functions-and-maps).**\n",
    "\n",
    "---\n"
   ]
  },
  {
   "cell_type": "markdown",
   "id": "4317df0b",
   "metadata": {
    "papermill": {
     "duration": 0.00574,
     "end_time": "2023-12-28T02:04:59.915820",
     "exception": false,
     "start_time": "2023-12-28T02:04:59.910080",
     "status": "completed"
    },
    "tags": []
   },
   "source": [
    "# Introduction\n",
    "\n",
    "Now you are ready to get a deeper understanding of your data.\n",
    "\n",
    "Run the following cell to load your data and some utility functions (including code to check your answers)."
   ]
  },
  {
   "cell_type": "code",
   "execution_count": 1,
   "id": "9e302ecf",
   "metadata": {
    "execution": {
     "iopub.execute_input": "2023-12-28T02:04:59.927890Z",
     "iopub.status.busy": "2023-12-28T02:04:59.927549Z",
     "iopub.status.idle": "2023-12-28T02:05:05.831739Z",
     "shell.execute_reply": "2023-12-28T02:05:05.830503Z"
    },
    "papermill": {
     "duration": 5.913132,
     "end_time": "2023-12-28T02:05:05.834298",
     "exception": false,
     "start_time": "2023-12-28T02:04:59.921166",
     "status": "completed"
    },
    "tags": []
   },
   "outputs": [
    {
     "name": "stdout",
     "output_type": "stream",
     "text": [
      "Setup complete.\n"
     ]
    },
    {
     "data": {
      "text/html": [
       "<div>\n",
       "<style scoped>\n",
       "    .dataframe tbody tr th:only-of-type {\n",
       "        vertical-align: middle;\n",
       "    }\n",
       "\n",
       "    .dataframe tbody tr th {\n",
       "        vertical-align: top;\n",
       "    }\n",
       "\n",
       "    .dataframe thead th {\n",
       "        text-align: right;\n",
       "    }\n",
       "</style>\n",
       "<table border=\"1\" class=\"dataframe\">\n",
       "  <thead>\n",
       "    <tr style=\"text-align: right;\">\n",
       "      <th></th>\n",
       "      <th>country</th>\n",
       "      <th>description</th>\n",
       "      <th>designation</th>\n",
       "      <th>points</th>\n",
       "      <th>price</th>\n",
       "      <th>province</th>\n",
       "      <th>region_1</th>\n",
       "      <th>region_2</th>\n",
       "      <th>taster_name</th>\n",
       "      <th>taster_twitter_handle</th>\n",
       "      <th>title</th>\n",
       "      <th>variety</th>\n",
       "      <th>winery</th>\n",
       "    </tr>\n",
       "  </thead>\n",
       "  <tbody>\n",
       "    <tr>\n",
       "      <th>0</th>\n",
       "      <td>Italy</td>\n",
       "      <td>Aromas include tropical fruit, broom, brimston...</td>\n",
       "      <td>Vulkà Bianco</td>\n",
       "      <td>87</td>\n",
       "      <td>NaN</td>\n",
       "      <td>Sicily &amp; Sardinia</td>\n",
       "      <td>Etna</td>\n",
       "      <td>NaN</td>\n",
       "      <td>Kerin O’Keefe</td>\n",
       "      <td>@kerinokeefe</td>\n",
       "      <td>Nicosia 2013 Vulkà Bianco  (Etna)</td>\n",
       "      <td>White Blend</td>\n",
       "      <td>Nicosia</td>\n",
       "    </tr>\n",
       "    <tr>\n",
       "      <th>1</th>\n",
       "      <td>Portugal</td>\n",
       "      <td>This is ripe and fruity, a wine that is smooth...</td>\n",
       "      <td>Avidagos</td>\n",
       "      <td>87</td>\n",
       "      <td>15.0</td>\n",
       "      <td>Douro</td>\n",
       "      <td>NaN</td>\n",
       "      <td>NaN</td>\n",
       "      <td>Roger Voss</td>\n",
       "      <td>@vossroger</td>\n",
       "      <td>Quinta dos Avidagos 2011 Avidagos Red (Douro)</td>\n",
       "      <td>Portuguese Red</td>\n",
       "      <td>Quinta dos Avidagos</td>\n",
       "    </tr>\n",
       "    <tr>\n",
       "      <th>2</th>\n",
       "      <td>US</td>\n",
       "      <td>Tart and snappy, the flavors of lime flesh and...</td>\n",
       "      <td>NaN</td>\n",
       "      <td>87</td>\n",
       "      <td>14.0</td>\n",
       "      <td>Oregon</td>\n",
       "      <td>Willamette Valley</td>\n",
       "      <td>Willamette Valley</td>\n",
       "      <td>Paul Gregutt</td>\n",
       "      <td>@paulgwine</td>\n",
       "      <td>Rainstorm 2013 Pinot Gris (Willamette Valley)</td>\n",
       "      <td>Pinot Gris</td>\n",
       "      <td>Rainstorm</td>\n",
       "    </tr>\n",
       "    <tr>\n",
       "      <th>3</th>\n",
       "      <td>US</td>\n",
       "      <td>Pineapple rind, lemon pith and orange blossom ...</td>\n",
       "      <td>Reserve Late Harvest</td>\n",
       "      <td>87</td>\n",
       "      <td>13.0</td>\n",
       "      <td>Michigan</td>\n",
       "      <td>Lake Michigan Shore</td>\n",
       "      <td>NaN</td>\n",
       "      <td>Alexander Peartree</td>\n",
       "      <td>NaN</td>\n",
       "      <td>St. Julian 2013 Reserve Late Harvest Riesling ...</td>\n",
       "      <td>Riesling</td>\n",
       "      <td>St. Julian</td>\n",
       "    </tr>\n",
       "    <tr>\n",
       "      <th>4</th>\n",
       "      <td>US</td>\n",
       "      <td>Much like the regular bottling from 2012, this...</td>\n",
       "      <td>Vintner's Reserve Wild Child Block</td>\n",
       "      <td>87</td>\n",
       "      <td>65.0</td>\n",
       "      <td>Oregon</td>\n",
       "      <td>Willamette Valley</td>\n",
       "      <td>Willamette Valley</td>\n",
       "      <td>Paul Gregutt</td>\n",
       "      <td>@paulgwine</td>\n",
       "      <td>Sweet Cheeks 2012 Vintner's Reserve Wild Child...</td>\n",
       "      <td>Pinot Noir</td>\n",
       "      <td>Sweet Cheeks</td>\n",
       "    </tr>\n",
       "  </tbody>\n",
       "</table>\n",
       "</div>"
      ],
      "text/plain": [
       "    country                                        description  \\\n",
       "0     Italy  Aromas include tropical fruit, broom, brimston...   \n",
       "1  Portugal  This is ripe and fruity, a wine that is smooth...   \n",
       "2        US  Tart and snappy, the flavors of lime flesh and...   \n",
       "3        US  Pineapple rind, lemon pith and orange blossom ...   \n",
       "4        US  Much like the regular bottling from 2012, this...   \n",
       "\n",
       "                          designation  points  price           province  \\\n",
       "0                        Vulkà Bianco      87    NaN  Sicily & Sardinia   \n",
       "1                            Avidagos      87   15.0              Douro   \n",
       "2                                 NaN      87   14.0             Oregon   \n",
       "3                Reserve Late Harvest      87   13.0           Michigan   \n",
       "4  Vintner's Reserve Wild Child Block      87   65.0             Oregon   \n",
       "\n",
       "              region_1           region_2         taster_name  \\\n",
       "0                 Etna                NaN       Kerin O’Keefe   \n",
       "1                  NaN                NaN          Roger Voss   \n",
       "2    Willamette Valley  Willamette Valley        Paul Gregutt   \n",
       "3  Lake Michigan Shore                NaN  Alexander Peartree   \n",
       "4    Willamette Valley  Willamette Valley        Paul Gregutt   \n",
       "\n",
       "  taster_twitter_handle                                              title  \\\n",
       "0          @kerinokeefe                  Nicosia 2013 Vulkà Bianco  (Etna)   \n",
       "1            @vossroger      Quinta dos Avidagos 2011 Avidagos Red (Douro)   \n",
       "2           @paulgwine       Rainstorm 2013 Pinot Gris (Willamette Valley)   \n",
       "3                   NaN  St. Julian 2013 Reserve Late Harvest Riesling ...   \n",
       "4           @paulgwine   Sweet Cheeks 2012 Vintner's Reserve Wild Child...   \n",
       "\n",
       "          variety               winery  \n",
       "0     White Blend              Nicosia  \n",
       "1  Portuguese Red  Quinta dos Avidagos  \n",
       "2      Pinot Gris            Rainstorm  \n",
       "3        Riesling           St. Julian  \n",
       "4      Pinot Noir         Sweet Cheeks  "
      ]
     },
     "execution_count": 1,
     "metadata": {},
     "output_type": "execute_result"
    }
   ],
   "source": [
    "import pandas as pd\n",
    "pd.set_option(\"display.max_rows\", 5)\n",
    "reviews = pd.read_csv(\"../input/wine-reviews/winemag-data-130k-v2.csv\", index_col=0)\n",
    "\n",
    "from learntools.core import binder; binder.bind(globals())\n",
    "from learntools.pandas.summary_functions_and_maps import *\n",
    "print(\"Setup complete.\")\n",
    "\n",
    "reviews.head()"
   ]
  },
  {
   "cell_type": "markdown",
   "id": "3f9dcd46",
   "metadata": {
    "papermill": {
     "duration": 0.006088,
     "end_time": "2023-12-28T02:05:05.846761",
     "exception": false,
     "start_time": "2023-12-28T02:05:05.840673",
     "status": "completed"
    },
    "tags": []
   },
   "source": [
    "# Exercises"
   ]
  },
  {
   "cell_type": "markdown",
   "id": "146b4b2a",
   "metadata": {
    "papermill": {
     "duration": 0.005284,
     "end_time": "2023-12-28T02:05:05.857867",
     "exception": false,
     "start_time": "2023-12-28T02:05:05.852583",
     "status": "completed"
    },
    "tags": []
   },
   "source": [
    "## 1.\n",
    "\n",
    "What is the median of the `points` column in the `reviews` DataFrame?"
   ]
  },
  {
   "cell_type": "code",
   "execution_count": 2,
   "id": "571a1360",
   "metadata": {
    "execution": {
     "iopub.execute_input": "2023-12-28T02:05:05.871675Z",
     "iopub.status.busy": "2023-12-28T02:05:05.871244Z",
     "iopub.status.idle": "2023-12-28T02:05:05.882372Z",
     "shell.execute_reply": "2023-12-28T02:05:05.881574Z"
    },
    "papermill": {
     "duration": 0.022353,
     "end_time": "2023-12-28T02:05:05.886069",
     "exception": false,
     "start_time": "2023-12-28T02:05:05.863716",
     "status": "completed"
    },
    "tags": []
   },
   "outputs": [
    {
     "data": {
      "application/javascript": [
       "parent.postMessage({\"jupyterEvent\": \"custom.exercise_interaction\", \"data\": {\"outcomeType\": 1, \"valueTowardsCompletion\": 0.14285714285714285, \"interactionType\": 1, \"questionType\": 1, \"questionId\": \"1_MedianPoints\", \"learnToolsVersion\": \"0.3.4\", \"failureMessage\": \"\", \"exceptionClass\": \"\", \"trace\": \"\"}}, \"*\")"
      ],
      "text/plain": [
       "<IPython.core.display.Javascript object>"
      ]
     },
     "metadata": {},
     "output_type": "display_data"
    },
    {
     "data": {
      "text/markdown": [
       "<span style=\"color:#33cc33\">Correct</span>"
      ],
      "text/plain": [
       "Correct"
      ]
     },
     "metadata": {},
     "output_type": "display_data"
    }
   ],
   "source": [
    "median_points = reviews.points.median()\n",
    "\n",
    "# Check your answer\n",
    "q1.check()"
   ]
  },
  {
   "cell_type": "code",
   "execution_count": 3,
   "id": "30cea734",
   "metadata": {
    "execution": {
     "iopub.execute_input": "2023-12-28T02:05:05.901085Z",
     "iopub.status.busy": "2023-12-28T02:05:05.900557Z",
     "iopub.status.idle": "2023-12-28T02:05:05.903601Z",
     "shell.execute_reply": "2023-12-28T02:05:05.902969Z"
    },
    "papermill": {
     "duration": 0.012431,
     "end_time": "2023-12-28T02:05:05.905302",
     "exception": false,
     "start_time": "2023-12-28T02:05:05.892871",
     "status": "completed"
    },
    "tags": []
   },
   "outputs": [],
   "source": [
    "#q1.hint()\n",
    "#q1.solution()"
   ]
  },
  {
   "cell_type": "markdown",
   "id": "074a0040",
   "metadata": {
    "papermill": {
     "duration": 0.005705,
     "end_time": "2023-12-28T02:05:05.917159",
     "exception": false,
     "start_time": "2023-12-28T02:05:05.911454",
     "status": "completed"
    },
    "tags": []
   },
   "source": [
    "## 2. \n",
    "What countries are represented in the dataset? (Your answer should not include any duplicates.)"
   ]
  },
  {
   "cell_type": "code",
   "execution_count": 4,
   "id": "df87b736",
   "metadata": {
    "execution": {
     "iopub.execute_input": "2023-12-28T02:05:05.930633Z",
     "iopub.status.busy": "2023-12-28T02:05:05.930231Z",
     "iopub.status.idle": "2023-12-28T02:05:05.944429Z",
     "shell.execute_reply": "2023-12-28T02:05:05.943545Z"
    },
    "papermill": {
     "duration": 0.023348,
     "end_time": "2023-12-28T02:05:05.946394",
     "exception": false,
     "start_time": "2023-12-28T02:05:05.923046",
     "status": "completed"
    },
    "tags": []
   },
   "outputs": [
    {
     "data": {
      "application/javascript": [
       "parent.postMessage({\"jupyterEvent\": \"custom.exercise_interaction\", \"data\": {\"outcomeType\": 1, \"valueTowardsCompletion\": 0.14285714285714285, \"interactionType\": 1, \"questionType\": 2, \"questionId\": \"2_UniqueCountries\", \"learnToolsVersion\": \"0.3.4\", \"failureMessage\": \"\", \"exceptionClass\": \"\", \"trace\": \"\"}}, \"*\")"
      ],
      "text/plain": [
       "<IPython.core.display.Javascript object>"
      ]
     },
     "metadata": {},
     "output_type": "display_data"
    },
    {
     "data": {
      "text/markdown": [
       "<span style=\"color:#33cc33\">Correct</span>"
      ],
      "text/plain": [
       "Correct"
      ]
     },
     "metadata": {},
     "output_type": "display_data"
    }
   ],
   "source": [
    "countries = reviews.country.unique()\n",
    "\n",
    "# Check your answer\n",
    "q2.check()"
   ]
  },
  {
   "cell_type": "code",
   "execution_count": 5,
   "id": "7b101efb",
   "metadata": {
    "execution": {
     "iopub.execute_input": "2023-12-28T02:05:05.960804Z",
     "iopub.status.busy": "2023-12-28T02:05:05.959578Z",
     "iopub.status.idle": "2023-12-28T02:05:05.964164Z",
     "shell.execute_reply": "2023-12-28T02:05:05.963173Z"
    },
    "papermill": {
     "duration": 0.013944,
     "end_time": "2023-12-28T02:05:05.966511",
     "exception": false,
     "start_time": "2023-12-28T02:05:05.952567",
     "status": "completed"
    },
    "tags": []
   },
   "outputs": [],
   "source": [
    "#q2.hint()\n",
    "#q2.solution()"
   ]
  },
  {
   "cell_type": "markdown",
   "id": "b71db36c",
   "metadata": {
    "papermill": {
     "duration": 0.005963,
     "end_time": "2023-12-28T02:05:05.978959",
     "exception": false,
     "start_time": "2023-12-28T02:05:05.972996",
     "status": "completed"
    },
    "tags": []
   },
   "source": [
    "## 3.\n",
    "How often does each country appear in the dataset? Create a Series `reviews_per_country` mapping countries to the count of reviews of wines from that country."
   ]
  },
  {
   "cell_type": "code",
   "execution_count": 6,
   "id": "1a1143ed",
   "metadata": {
    "execution": {
     "iopub.execute_input": "2023-12-28T02:05:05.993997Z",
     "iopub.status.busy": "2023-12-28T02:05:05.993527Z",
     "iopub.status.idle": "2023-12-28T02:05:06.007015Z",
     "shell.execute_reply": "2023-12-28T02:05:06.005876Z"
    },
    "papermill": {
     "duration": 0.024061,
     "end_time": "2023-12-28T02:05:06.008889",
     "exception": false,
     "start_time": "2023-12-28T02:05:05.984828",
     "status": "completed"
    },
    "tags": []
   },
   "outputs": [
    {
     "data": {
      "application/javascript": [
       "parent.postMessage({\"jupyterEvent\": \"custom.exercise_interaction\", \"data\": {\"outcomeType\": 1, \"valueTowardsCompletion\": 0.14285714285714285, \"interactionType\": 1, \"questionType\": 1, \"questionId\": \"3_ReviewsPerCountry\", \"learnToolsVersion\": \"0.3.4\", \"failureMessage\": \"\", \"exceptionClass\": \"\", \"trace\": \"\"}}, \"*\")"
      ],
      "text/plain": [
       "<IPython.core.display.Javascript object>"
      ]
     },
     "metadata": {},
     "output_type": "display_data"
    },
    {
     "data": {
      "text/markdown": [
       "<span style=\"color:#33cc33\">Correct</span>"
      ],
      "text/plain": [
       "Correct"
      ]
     },
     "metadata": {},
     "output_type": "display_data"
    }
   ],
   "source": [
    "reviews_per_country = reviews.country.value_counts()\n",
    "\n",
    "# Check your answer\n",
    "q3.check()"
   ]
  },
  {
   "cell_type": "code",
   "execution_count": 7,
   "id": "08a55186",
   "metadata": {
    "execution": {
     "iopub.execute_input": "2023-12-28T02:05:06.024723Z",
     "iopub.status.busy": "2023-12-28T02:05:06.023937Z",
     "iopub.status.idle": "2023-12-28T02:05:06.029147Z",
     "shell.execute_reply": "2023-12-28T02:05:06.027126Z"
    },
    "papermill": {
     "duration": 0.016239,
     "end_time": "2023-12-28T02:05:06.031827",
     "exception": false,
     "start_time": "2023-12-28T02:05:06.015588",
     "status": "completed"
    },
    "tags": []
   },
   "outputs": [],
   "source": [
    "#q3.hint()\n",
    "#q3.solution()"
   ]
  },
  {
   "cell_type": "markdown",
   "id": "ca29d311",
   "metadata": {
    "papermill": {
     "duration": 0.006463,
     "end_time": "2023-12-28T02:05:06.046564",
     "exception": false,
     "start_time": "2023-12-28T02:05:06.040101",
     "status": "completed"
    },
    "tags": []
   },
   "source": [
    "## 4.\n",
    "Create variable `centered_price` containing a version of the `price` column with the mean price subtracted.\n",
    "\n",
    "(Note: this 'centering' transformation is a common preprocessing step before applying various machine learning algorithms.) "
   ]
  },
  {
   "cell_type": "code",
   "execution_count": 8,
   "id": "e63c567c",
   "metadata": {
    "execution": {
     "iopub.execute_input": "2023-12-28T02:05:06.061400Z",
     "iopub.status.busy": "2023-12-28T02:05:06.061041Z",
     "iopub.status.idle": "2023-12-28T02:05:06.073099Z",
     "shell.execute_reply": "2023-12-28T02:05:06.072071Z"
    },
    "papermill": {
     "duration": 0.022089,
     "end_time": "2023-12-28T02:05:06.075090",
     "exception": false,
     "start_time": "2023-12-28T02:05:06.053001",
     "status": "completed"
    },
    "tags": []
   },
   "outputs": [
    {
     "data": {
      "application/javascript": [
       "parent.postMessage({\"jupyterEvent\": \"custom.exercise_interaction\", \"data\": {\"outcomeType\": 1, \"valueTowardsCompletion\": 0.14285714285714285, \"interactionType\": 1, \"questionType\": 1, \"questionId\": \"4_CenteredPrice\", \"learnToolsVersion\": \"0.3.4\", \"failureMessage\": \"\", \"exceptionClass\": \"\", \"trace\": \"\"}}, \"*\")"
      ],
      "text/plain": [
       "<IPython.core.display.Javascript object>"
      ]
     },
     "metadata": {},
     "output_type": "display_data"
    },
    {
     "data": {
      "text/markdown": [
       "<span style=\"color:#33cc33\">Correct</span>"
      ],
      "text/plain": [
       "Correct"
      ]
     },
     "metadata": {},
     "output_type": "display_data"
    }
   ],
   "source": [
    "centered_price = reviews.price - reviews.price.mean()\n",
    "\n",
    "# Check your answer\n",
    "q4.check()"
   ]
  },
  {
   "cell_type": "code",
   "execution_count": 9,
   "id": "5b7e548d",
   "metadata": {
    "execution": {
     "iopub.execute_input": "2023-12-28T02:05:06.090474Z",
     "iopub.status.busy": "2023-12-28T02:05:06.089936Z",
     "iopub.status.idle": "2023-12-28T02:05:06.094219Z",
     "shell.execute_reply": "2023-12-28T02:05:06.093060Z"
    },
    "papermill": {
     "duration": 0.01474,
     "end_time": "2023-12-28T02:05:06.096589",
     "exception": false,
     "start_time": "2023-12-28T02:05:06.081849",
     "status": "completed"
    },
    "tags": []
   },
   "outputs": [],
   "source": [
    "#q4.hint()\n",
    "#q4.solution()"
   ]
  },
  {
   "cell_type": "markdown",
   "id": "ad0b1dbc",
   "metadata": {
    "papermill": {
     "duration": 0.006576,
     "end_time": "2023-12-28T02:05:06.110632",
     "exception": false,
     "start_time": "2023-12-28T02:05:06.104056",
     "status": "completed"
    },
    "tags": []
   },
   "source": [
    "## 5.\n",
    "I'm an economical wine buyer. Which wine is the \"best bargain\"? Create a variable `bargain_wine` with the title of the wine with the highest points-to-price ratio in the dataset."
   ]
  },
  {
   "cell_type": "code",
   "execution_count": 10,
   "id": "51848b12",
   "metadata": {
    "execution": {
     "iopub.execute_input": "2023-12-28T02:05:06.126061Z",
     "iopub.status.busy": "2023-12-28T02:05:06.125737Z",
     "iopub.status.idle": "2023-12-28T02:05:06.142421Z",
     "shell.execute_reply": "2023-12-28T02:05:06.141435Z"
    },
    "papermill": {
     "duration": 0.026985,
     "end_time": "2023-12-28T02:05:06.144449",
     "exception": false,
     "start_time": "2023-12-28T02:05:06.117464",
     "status": "completed"
    },
    "tags": []
   },
   "outputs": [
    {
     "data": {
      "application/javascript": [
       "parent.postMessage({\"jupyterEvent\": \"custom.exercise_interaction\", \"data\": {\"outcomeType\": 1, \"valueTowardsCompletion\": 0.14285714285714285, \"interactionType\": 1, \"questionType\": 2, \"questionId\": \"5_BargainWine\", \"learnToolsVersion\": \"0.3.4\", \"failureMessage\": \"\", \"exceptionClass\": \"\", \"trace\": \"\"}}, \"*\")"
      ],
      "text/plain": [
       "<IPython.core.display.Javascript object>"
      ]
     },
     "metadata": {},
     "output_type": "display_data"
    },
    {
     "data": {
      "text/markdown": [
       "<span style=\"color:#33cc33\">Correct</span>"
      ],
      "text/plain": [
       "Correct"
      ]
     },
     "metadata": {},
     "output_type": "display_data"
    }
   ],
   "source": [
    "bargain_idx = (reviews.points / reviews.price).idxmax()\n",
    "bargain_wine = reviews.loc[bargain_idx, 'title']\n",
    "\n",
    "# Check your answer\n",
    "q5.check()"
   ]
  },
  {
   "cell_type": "code",
   "execution_count": 11,
   "id": "135ea70c",
   "metadata": {
    "execution": {
     "iopub.execute_input": "2023-12-28T02:05:06.161306Z",
     "iopub.status.busy": "2023-12-28T02:05:06.160740Z",
     "iopub.status.idle": "2023-12-28T02:05:06.166342Z",
     "shell.execute_reply": "2023-12-28T02:05:06.165327Z"
    },
    "papermill": {
     "duration": 0.016775,
     "end_time": "2023-12-28T02:05:06.168701",
     "exception": false,
     "start_time": "2023-12-28T02:05:06.151926",
     "status": "completed"
    },
    "tags": []
   },
   "outputs": [],
   "source": [
    "#q5.hint()\n",
    "#q5.solution()"
   ]
  },
  {
   "cell_type": "markdown",
   "id": "1eedf123",
   "metadata": {
    "papermill": {
     "duration": 0.006687,
     "end_time": "2023-12-28T02:05:06.182517",
     "exception": false,
     "start_time": "2023-12-28T02:05:06.175830",
     "status": "completed"
    },
    "tags": []
   },
   "source": [
    "## 6.\n",
    "There are only so many words you can use when describing a bottle of wine. Is a wine more likely to be \"tropical\" or \"fruity\"? Create a Series `descriptor_counts` counting how many times each of these two words appears in the `description` column in the dataset. (For simplicity, let's ignore the capitalized versions of these words.)"
   ]
  },
  {
   "cell_type": "code",
   "execution_count": 12,
   "id": "c3b55711",
   "metadata": {
    "execution": {
     "iopub.execute_input": "2023-12-28T02:05:06.198457Z",
     "iopub.status.busy": "2023-12-28T02:05:06.197827Z",
     "iopub.status.idle": "2023-12-28T02:05:06.305552Z",
     "shell.execute_reply": "2023-12-28T02:05:06.303705Z"
    },
    "papermill": {
     "duration": 0.118523,
     "end_time": "2023-12-28T02:05:06.308044",
     "exception": false,
     "start_time": "2023-12-28T02:05:06.189521",
     "status": "completed"
    },
    "tags": []
   },
   "outputs": [
    {
     "data": {
      "application/javascript": [
       "parent.postMessage({\"jupyterEvent\": \"custom.exercise_interaction\", \"data\": {\"outcomeType\": 1, \"valueTowardsCompletion\": 0.14285714285714285, \"interactionType\": 1, \"questionType\": 1, \"questionId\": \"6_DescriptorCounts\", \"learnToolsVersion\": \"0.3.4\", \"failureMessage\": \"\", \"exceptionClass\": \"\", \"trace\": \"\"}}, \"*\")"
      ],
      "text/plain": [
       "<IPython.core.display.Javascript object>"
      ]
     },
     "metadata": {},
     "output_type": "display_data"
    },
    {
     "data": {
      "text/markdown": [
       "<span style=\"color:#33cc33\">Correct</span>"
      ],
      "text/plain": [
       "Correct"
      ]
     },
     "metadata": {},
     "output_type": "display_data"
    }
   ],
   "source": [
    "tropical_count = reviews.description.map(lambda a: \"tropical\" in a).sum() #get count\n",
    "fruity_count = reviews.description.map(lambda b: \"fruity\" in b).sum() #get count\n",
    "#this just formats it nicely into a series\n",
    "descriptor_counts = pd.Series([tropical_count, fruity_count], index=['tropical','fruity'])\n",
    "\n",
    "# Check your answer\n",
    "q6.check()"
   ]
  },
  {
   "cell_type": "code",
   "execution_count": 13,
   "id": "828a8b2d",
   "metadata": {
    "execution": {
     "iopub.execute_input": "2023-12-28T02:05:06.325222Z",
     "iopub.status.busy": "2023-12-28T02:05:06.324872Z",
     "iopub.status.idle": "2023-12-28T02:05:06.330799Z",
     "shell.execute_reply": "2023-12-28T02:05:06.329151Z"
    },
    "papermill": {
     "duration": 0.018127,
     "end_time": "2023-12-28T02:05:06.334042",
     "exception": false,
     "start_time": "2023-12-28T02:05:06.315915",
     "status": "completed"
    },
    "tags": []
   },
   "outputs": [],
   "source": [
    "#q6.hint()\n",
    "#q6.solution()"
   ]
  },
  {
   "cell_type": "markdown",
   "id": "92255734",
   "metadata": {
    "papermill": {
     "duration": 0.007216,
     "end_time": "2023-12-28T02:05:06.348671",
     "exception": false,
     "start_time": "2023-12-28T02:05:06.341455",
     "status": "completed"
    },
    "tags": []
   },
   "source": [
    "## 7.\n",
    "We'd like to host these wine reviews on our website, but a rating system ranging from 80 to 100 points is too hard to understand - we'd like to translate them into simple star ratings. A score of 95 or higher counts as 3 stars, a score of at least 85 but less than 95 is 2 stars. Any other score is 1 star.\n",
    "\n",
    "Also, the Canadian Vintners Association bought a lot of ads on the site, so any wines from Canada should automatically get 3 stars, regardless of points.\n",
    "\n",
    "Create a series `star_ratings` with the number of stars corresponding to each review in the dataset."
   ]
  },
  {
   "cell_type": "code",
   "execution_count": 14,
   "id": "e679a18a",
   "metadata": {
    "execution": {
     "iopub.execute_input": "2023-12-28T02:05:06.364636Z",
     "iopub.status.busy": "2023-12-28T02:05:06.364238Z",
     "iopub.status.idle": "2023-12-28T02:05:10.122786Z",
     "shell.execute_reply": "2023-12-28T02:05:10.121936Z"
    },
    "papermill": {
     "duration": 3.769624,
     "end_time": "2023-12-28T02:05:10.125381",
     "exception": false,
     "start_time": "2023-12-28T02:05:06.355757",
     "status": "completed"
    },
    "tags": []
   },
   "outputs": [
    {
     "data": {
      "application/javascript": [
       "parent.postMessage({\"jupyterEvent\": \"custom.exercise_interaction\", \"data\": {\"outcomeType\": 1, \"valueTowardsCompletion\": 0.14285714285714285, \"interactionType\": 1, \"questionType\": 1, \"questionId\": \"7_StarRatings\", \"learnToolsVersion\": \"0.3.4\", \"failureMessage\": \"\", \"exceptionClass\": \"\", \"trace\": \"\"}}, \"*\")"
      ],
      "text/plain": [
       "<IPython.core.display.Javascript object>"
      ]
     },
     "metadata": {},
     "output_type": "display_data"
    },
    {
     "data": {
      "text/markdown": [
       "<span style=\"color:#33cc33\">Correct</span>"
      ],
      "text/plain": [
       "Correct"
      ]
     },
     "metadata": {},
     "output_type": "display_data"
    }
   ],
   "source": [
    "def rating(row):\n",
    "    star = 0;\n",
    "    if row.country == \"Canada\":\n",
    "        star = 3\n",
    "    elif row.points >= 95:\n",
    "        star = 3\n",
    "    elif (row.points >= 85) & (row.points < 95):\n",
    "        star = 2\n",
    "    else:\n",
    "        star = 1\n",
    "    return star\n",
    "\n",
    "star_ratings = reviews.apply(rating, axis='columns')\n",
    "\n",
    "# Check your answer\n",
    "q7.check()"
   ]
  },
  {
   "cell_type": "code",
   "execution_count": 15,
   "id": "b31b676b",
   "metadata": {
    "execution": {
     "iopub.execute_input": "2023-12-28T02:05:10.143326Z",
     "iopub.status.busy": "2023-12-28T02:05:10.142684Z",
     "iopub.status.idle": "2023-12-28T02:05:10.146174Z",
     "shell.execute_reply": "2023-12-28T02:05:10.145512Z"
    },
    "papermill": {
     "duration": 0.014987,
     "end_time": "2023-12-28T02:05:10.148333",
     "exception": false,
     "start_time": "2023-12-28T02:05:10.133346",
     "status": "completed"
    },
    "tags": []
   },
   "outputs": [],
   "source": [
    "#q7.hint()\n",
    "#q7.solution()"
   ]
  },
  {
   "cell_type": "markdown",
   "id": "f2bbaf4a",
   "metadata": {
    "papermill": {
     "duration": 0.006965,
     "end_time": "2023-12-28T02:05:10.162804",
     "exception": false,
     "start_time": "2023-12-28T02:05:10.155839",
     "status": "completed"
    },
    "tags": []
   },
   "source": [
    "# Keep going\n",
    "Continue to **[grouping and sorting](https://www.kaggle.com/residentmario/grouping-and-sorting)**."
   ]
  },
  {
   "cell_type": "markdown",
   "id": "561095aa",
   "metadata": {
    "papermill": {
     "duration": 0.007096,
     "end_time": "2023-12-28T02:05:10.177266",
     "exception": false,
     "start_time": "2023-12-28T02:05:10.170170",
     "status": "completed"
    },
    "tags": []
   },
   "source": [
    "---\n",
    "\n",
    "\n",
    "\n",
    "\n",
    "*Have questions or comments? Visit the [course discussion forum](https://www.kaggle.com/learn/pandas/discussion) to chat with other learners.*"
   ]
  }
 ],
 "metadata": {
  "kaggle": {
   "accelerator": "none",
   "dataSources": [
    {
     "datasetId": 655,
     "sourceId": 1252,
     "sourceType": "datasetVersion"
    },
    {
     "datasetId": 2321,
     "sourceId": 3919,
     "sourceType": "datasetVersion"
    },
    {
     "datasetId": 2894,
     "sourceId": 4877,
     "sourceType": "datasetVersion"
    },
    {
     "datasetId": 3491,
     "sourceId": 5624,
     "sourceType": "datasetVersion"
    },
    {
     "datasetId": 1442,
     "sourceId": 8172,
     "sourceType": "datasetVersion"
    },
    {
     "datasetId": 9366,
     "sourceId": 13206,
     "sourceType": "datasetVersion"
    },
    {
     "datasetId": 179555,
     "sourceId": 403916,
     "sourceType": "datasetVersion"
    },
    {
     "datasetId": 4549,
     "sourceId": 466349,
     "sourceType": "datasetVersion"
    },
    {
     "datasetId": 2478,
     "sourceId": 1151655,
     "sourceType": "datasetVersion"
    },
    {
     "datasetId": 10128,
     "sourceId": 5438389,
     "sourceType": "datasetVersion"
    }
   ],
   "isGpuEnabled": false,
   "isInternetEnabled": false,
   "language": "python",
   "sourceType": "notebook"
  },
  "kernelspec": {
   "display_name": "Python 3",
   "language": "python",
   "name": "python3"
  },
  "language_info": {
   "codemirror_mode": {
    "name": "ipython",
    "version": 3
   },
   "file_extension": ".py",
   "mimetype": "text/x-python",
   "name": "python",
   "nbconvert_exporter": "python",
   "pygments_lexer": "ipython3",
   "version": "3.10.12"
  },
  "papermill": {
   "default_parameters": {},
   "duration": 13.473839,
   "end_time": "2023-12-28T02:05:10.707412",
   "environment_variables": {},
   "exception": null,
   "input_path": "__notebook__.ipynb",
   "output_path": "__notebook__.ipynb",
   "parameters": {},
   "start_time": "2023-12-28T02:04:57.233573",
   "version": "2.4.0"
  }
 },
 "nbformat": 4,
 "nbformat_minor": 5
}
